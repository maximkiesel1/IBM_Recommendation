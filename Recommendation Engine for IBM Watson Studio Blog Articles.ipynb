{
 "cells": [
  {
   "cell_type": "markdown",
   "id": "c13fc8ee",
   "metadata": {},
   "source": [
    "# Recommendation Engine For IBM Watson Studio Blog Articles"
   ]
  },
  {
   "cell_type": "markdown",
   "id": "3f5e1bd4",
   "metadata": {},
   "source": [
    "In this notebook, I will create a recommendation engine for users of the IBM Watson Studio platform. This engine will provide new articles for the user, no matter if the user is new or have already interacted with the platform.\n",
    "Therefore, I will use the following algorithms:\n",
    "- Ranked-Based\n",
    "- User-Based\n",
    "- Matrix Factorization (FunkSVD)"
   ]
  },
  {
   "cell_type": "markdown",
   "id": "8b158301",
   "metadata": {},
   "source": [
    "## Table Of Contents "
   ]
  },
  {
   "cell_type": "markdown",
   "id": "84fc9929",
   "metadata": {},
   "source": [
    "#### 1. [Exploratory Data Analysis](#eda)  \n",
    "#### 2. [Ranked-Based Recommendation](#rbr)\n",
    "#### 3. [User-Based Recommendation](#ubr)\n",
    "#### 4. [Matrix Factorization Recommendation](#mfr)\n",
    "#### 5. [Final Model](#fm)"
   ]
  },
  {
   "cell_type": "code",
   "execution_count": 1,
   "id": "c357f862",
   "metadata": {},
   "outputs": [],
   "source": [
    "# load libraries\n",
    "import numpy as np\n",
    "import pandas as pd\n",
    "import matplotlib.pyplot as plt\n",
    "import statistics\n",
    "from collections import Counter"
   ]
  },
  {
   "cell_type": "markdown",
   "id": "1480f8b4",
   "metadata": {},
   "source": [
    "## <a class=\"anchor\" id=\"eda\"> 1. Exploratory Data Analysis </a>"
   ]
  },
  {
   "cell_type": "markdown",
   "id": "a76f0922",
   "metadata": {},
   "source": [
    "### 1.1 Article Data"
   ]
  },
  {
   "cell_type": "code",
   "execution_count": 2,
   "id": "6eb32946",
   "metadata": {},
   "outputs": [],
   "source": [
    "# load csv\n",
    "df_articles  = pd.read_csv('articles_community.csv')"
   ]
  },
  {
   "cell_type": "code",
   "execution_count": 3,
   "id": "e80be719",
   "metadata": {
    "scrolled": true
   },
   "outputs": [
    {
     "data": {
      "text/html": [
       "<div>\n",
       "<style scoped>\n",
       "    .dataframe tbody tr th:only-of-type {\n",
       "        vertical-align: middle;\n",
       "    }\n",
       "\n",
       "    .dataframe tbody tr th {\n",
       "        vertical-align: top;\n",
       "    }\n",
       "\n",
       "    .dataframe thead th {\n",
       "        text-align: right;\n",
       "    }\n",
       "</style>\n",
       "<table border=\"1\" class=\"dataframe\">\n",
       "  <thead>\n",
       "    <tr style=\"text-align: right;\">\n",
       "      <th></th>\n",
       "      <th>Unnamed: 0</th>\n",
       "      <th>doc_body</th>\n",
       "      <th>doc_description</th>\n",
       "      <th>doc_full_name</th>\n",
       "      <th>doc_status</th>\n",
       "      <th>article_id</th>\n",
       "    </tr>\n",
       "  </thead>\n",
       "  <tbody>\n",
       "    <tr>\n",
       "      <th>0</th>\n",
       "      <td>3</td>\n",
       "      <td>Skip navigation Sign in SearchLoading...\\r\\n\\r...</td>\n",
       "      <td>Detect bad readings in real time using Python ...</td>\n",
       "      <td>Detect Malfunctioning IoT Sensors with Streami...</td>\n",
       "      <td>Live</td>\n",
       "      <td>0</td>\n",
       "    </tr>\n",
       "    <tr>\n",
       "      <th>1</th>\n",
       "      <td>5</td>\n",
       "      <td>No Free Hunch Navigation * kaggle.com\\r\\n\\r\\n ...</td>\n",
       "      <td>See the forest, see the trees. Here lies the c...</td>\n",
       "      <td>Communicating data science: A guide to present...</td>\n",
       "      <td>Live</td>\n",
       "      <td>1</td>\n",
       "    </tr>\n",
       "    <tr>\n",
       "      <th>2</th>\n",
       "      <td>7</td>\n",
       "      <td>☰ * Login\\r\\n * Sign Up\\r\\n\\r\\n * Learning Pat...</td>\n",
       "      <td>Here’s this week’s news in Data Science and Bi...</td>\n",
       "      <td>This Week in Data Science (April 18, 2017)</td>\n",
       "      <td>Live</td>\n",
       "      <td>2</td>\n",
       "    </tr>\n",
       "    <tr>\n",
       "      <th>3</th>\n",
       "      <td>8</td>\n",
       "      <td>DATALAYER: HIGH THROUGHPUT, LOW LATENCY AT SCA...</td>\n",
       "      <td>Learn how distributed DBs solve the problem of...</td>\n",
       "      <td>DataLayer Conference: Boost the performance of...</td>\n",
       "      <td>Live</td>\n",
       "      <td>3</td>\n",
       "    </tr>\n",
       "    <tr>\n",
       "      <th>4</th>\n",
       "      <td>12</td>\n",
       "      <td>Skip navigation Sign in SearchLoading...\\r\\n\\r...</td>\n",
       "      <td>This video demonstrates the power of IBM DataS...</td>\n",
       "      <td>Analyze NY Restaurant data using Spark in DSX</td>\n",
       "      <td>Live</td>\n",
       "      <td>4</td>\n",
       "    </tr>\n",
       "  </tbody>\n",
       "</table>\n",
       "</div>"
      ],
      "text/plain": [
       "   Unnamed: 0                                           doc_body  \\\n",
       "0           3  Skip navigation Sign in SearchLoading...\\r\\n\\r...   \n",
       "1           5  No Free Hunch Navigation * kaggle.com\\r\\n\\r\\n ...   \n",
       "2           7  ☰ * Login\\r\\n * Sign Up\\r\\n\\r\\n * Learning Pat...   \n",
       "3           8  DATALAYER: HIGH THROUGHPUT, LOW LATENCY AT SCA...   \n",
       "4          12  Skip navigation Sign in SearchLoading...\\r\\n\\r...   \n",
       "\n",
       "                                     doc_description  \\\n",
       "0  Detect bad readings in real time using Python ...   \n",
       "1  See the forest, see the trees. Here lies the c...   \n",
       "2  Here’s this week’s news in Data Science and Bi...   \n",
       "3  Learn how distributed DBs solve the problem of...   \n",
       "4  This video demonstrates the power of IBM DataS...   \n",
       "\n",
       "                                       doc_full_name doc_status  article_id  \n",
       "0  Detect Malfunctioning IoT Sensors with Streami...       Live           0  \n",
       "1  Communicating data science: A guide to present...       Live           1  \n",
       "2         This Week in Data Science (April 18, 2017)       Live           2  \n",
       "3  DataLayer Conference: Boost the performance of...       Live           3  \n",
       "4      Analyze NY Restaurant data using Spark in DSX       Live           4  "
      ]
     },
     "execution_count": 3,
     "metadata": {},
     "output_type": "execute_result"
    }
   ],
   "source": [
    "# view first 5 rows\n",
    "df_articles.head()"
   ]
  },
  {
   "cell_type": "code",
   "execution_count": 4,
   "id": "780277aa",
   "metadata": {},
   "outputs": [
    {
     "data": {
      "text/plain": [
       "(1056, 6)"
      ]
     },
     "execution_count": 4,
     "metadata": {},
     "output_type": "execute_result"
    }
   ],
   "source": [
    "# view the shape of the dataframe\n",
    "df_articles.shape"
   ]
  },
  {
   "cell_type": "code",
   "execution_count": 5,
   "id": "00063ddc",
   "metadata": {},
   "outputs": [
    {
     "data": {
      "text/plain": [
       "Unnamed: 0          int64\n",
       "doc_body           object\n",
       "doc_description    object\n",
       "doc_full_name      object\n",
       "doc_status         object\n",
       "article_id          int64\n",
       "dtype: object"
      ]
     },
     "execution_count": 5,
     "metadata": {},
     "output_type": "execute_result"
    }
   ],
   "source": [
    "# show the data types\n",
    "df_articles.dtypes"
   ]
  },
  {
   "cell_type": "code",
   "execution_count": 6,
   "id": "abe4f82b",
   "metadata": {},
   "outputs": [
    {
     "data": {
      "text/html": [
       "<div>\n",
       "<style scoped>\n",
       "    .dataframe tbody tr th:only-of-type {\n",
       "        vertical-align: middle;\n",
       "    }\n",
       "\n",
       "    .dataframe tbody tr th {\n",
       "        vertical-align: top;\n",
       "    }\n",
       "\n",
       "    .dataframe thead th {\n",
       "        text-align: right;\n",
       "    }\n",
       "</style>\n",
       "<table border=\"1\" class=\"dataframe\">\n",
       "  <thead>\n",
       "    <tr style=\"text-align: right;\">\n",
       "      <th></th>\n",
       "      <th>Unnamed: 0</th>\n",
       "      <th>article_id</th>\n",
       "    </tr>\n",
       "  </thead>\n",
       "  <tbody>\n",
       "    <tr>\n",
       "      <th>count</th>\n",
       "      <td>1056.000000</td>\n",
       "      <td>1056.000000</td>\n",
       "    </tr>\n",
       "    <tr>\n",
       "      <th>mean</th>\n",
       "      <td>1607.390152</td>\n",
       "      <td>523.913826</td>\n",
       "    </tr>\n",
       "    <tr>\n",
       "      <th>std</th>\n",
       "      <td>958.121618</td>\n",
       "      <td>303.480641</td>\n",
       "    </tr>\n",
       "    <tr>\n",
       "      <th>min</th>\n",
       "      <td>3.000000</td>\n",
       "      <td>0.000000</td>\n",
       "    </tr>\n",
       "    <tr>\n",
       "      <th>25%</th>\n",
       "      <td>770.250000</td>\n",
       "      <td>260.750000</td>\n",
       "    </tr>\n",
       "    <tr>\n",
       "      <th>50%</th>\n",
       "      <td>1624.000000</td>\n",
       "      <td>523.500000</td>\n",
       "    </tr>\n",
       "    <tr>\n",
       "      <th>75%</th>\n",
       "      <td>2423.250000</td>\n",
       "      <td>786.250000</td>\n",
       "    </tr>\n",
       "    <tr>\n",
       "      <th>max</th>\n",
       "      <td>3281.000000</td>\n",
       "      <td>1050.000000</td>\n",
       "    </tr>\n",
       "  </tbody>\n",
       "</table>\n",
       "</div>"
      ],
      "text/plain": [
       "        Unnamed: 0   article_id\n",
       "count  1056.000000  1056.000000\n",
       "mean   1607.390152   523.913826\n",
       "std     958.121618   303.480641\n",
       "min       3.000000     0.000000\n",
       "25%     770.250000   260.750000\n",
       "50%    1624.000000   523.500000\n",
       "75%    2423.250000   786.250000\n",
       "max    3281.000000  1050.000000"
      ]
     },
     "execution_count": 6,
     "metadata": {},
     "output_type": "execute_result"
    }
   ],
   "source": [
    "# show the statistical basic values for the numeric values\n",
    "df_articles.describe()"
   ]
  },
  {
   "cell_type": "markdown",
   "id": "26cf6c5a",
   "metadata": {},
   "source": [
    "In this dataframe there are just 2 numeric values. The 'Unnamed: 0' values seems to be a random id column. It can be deleted.\n",
    "The column 'article_id' seems to be the real id for the dataframe. The problem is that the position of this column isn't right. It needs to be on the first position."
   ]
  },
  {
   "cell_type": "code",
   "execution_count": 7,
   "id": "04bf071c",
   "metadata": {},
   "outputs": [],
   "source": [
    "# delete column 'Unnamed: 0'\n",
    "df_articles = df_articles.drop('Unnamed: 0', axis=1)"
   ]
  },
  {
   "cell_type": "code",
   "execution_count": 8,
   "id": "593c9e34",
   "metadata": {},
   "outputs": [],
   "source": [
    "# rerange the columns\n",
    "col = list(df_articles.columns)\n",
    "col = col[-1:] + col[:-1]\n",
    "df_articles = df_articles[col]"
   ]
  },
  {
   "cell_type": "code",
   "execution_count": 9,
   "id": "e27f1beb",
   "metadata": {},
   "outputs": [
    {
     "name": "stdout",
     "output_type": "stream",
     "text": [
      "article_id\n",
      "1051\n",
      "doc_body\n",
      "1037\n",
      "doc_description\n",
      "1023\n",
      "doc_full_name\n",
      "1051\n",
      "doc_status\n",
      "1\n"
     ]
    }
   ],
   "source": [
    "# number of unique values of the categorical columns\n",
    "for column in list(df_articles.columns):\n",
    "    print(column)\n",
    "    print(len(df_articles[column].unique()))"
   ]
  },
  {
   "cell_type": "code",
   "execution_count": 10,
   "id": "52ce6497",
   "metadata": {},
   "outputs": [
    {
     "data": {
      "text/plain": [
       "{'article_id': {50: 2, 221: 2, 232: 2, 398: 2, 577: 2},\n",
       " 'doc_body': {'Working Vis * \\r\\n * \\r\\n\\r\\n * Home\\r\\n * About This Blog\\r\\n * Brunel': 4,\n",
       "  '* Select a country/region: United States\\r\\n\\r\\nIBM� * Site map\\r\\n\\r\\nSearch\\r\\n\\r\\n * Related materials Download\\r\\n\\r\\n * NO RELATED MATERIALS FOUND\\r\\n   \\r\\n\\r\\n * \\r\\n * \\r\\n * \\r\\n * \\r\\n * \\r\\n\\r\\n * LinkedIn\\r\\n * Google+\\r\\n * Twitter\\r\\n * Facebook\\r\\n\\r\\n * \\r\\n\\r\\n * Related materials\\r\\n\\r\\n * NO RELATED MATERIALS FOUND\\r\\n   \\r\\n\\r\\n * Download\\r\\n\\r\\n * \\r\\n * \\r\\n * \\r\\n * \\r\\n\\r\\n * \\r\\n\\r\\n * Download\\r\\n\\r\\n\\r\\nCONTACT IBM\\r\\nCONSIDERING A PURCHASE?\\r\\n * Email IBM\\r\\n\\r\\nFOOTER LINKS\\r\\n * Contact\\r\\n * Privacy\\r\\n * Terms of use\\r\\n * Accessibility': 2,\n",
       "  'Cheat sheet': 2,\n",
       "  'Need to report the video?\\r\\n\\r\\nSign in to report inappropriate content.\\r\\n\\r\\nSign in\\r\\n\\r\\nWant to watch this again later?\\r\\n\\r\\nSign in to add this video to a playlist.\\r\\n\\r\\nSign in\\r\\n\\r\\nSign in to make your opinion count.\\r\\n\\r\\nSign in to make your opinion count.': 2},\n",
       " 'doc_description': {'Here’s this week’s news in Data Science and Big Data.': 10,\n",
       "  'Here’s this week’s news in Data Science and Big Data. ': 16,\n",
       "  'How to use the Spark machine learning programming model in IBM Analytics for Apache Spark on IBM Bluemix': 2,\n",
       "  'If you are like most data scientists, you are probably spending a lot of time to cleanse, shape and prepare your data before you can actually start with the more enjoyable part of building and…': 2,\n",
       "  'Interesting data science links from around the web.': 2,\n",
       "  'Today’s world of data science leverages data from various sources. Commonly, these sources are Hadoop File System, Enterprise Data Warehouse, Relational Database systems, Enterprise file systems, etc…': 2,\n",
       "  'Every two weeks, we find the most interesting data science links from around the web and collect them in Data Science Briefings, the DataMiningApps newsletter.': 2,\n",
       "  'In my last blog “Business differentiation through Machine Learning” I introduced and described the concepts of machine learning. We traced its origins from a computer science project to Watson show…': 2,\n",
       "  'How to build SQL Queries in a Scala notebook using IBM Analytics for Apache Spark': 2},\n",
       " 'doc_full_name': {'Graph-based machine learning': 2,\n",
       "  'How smart catalogs can turn the big data flood into an ocean of opportunity': 2,\n",
       "  'Self-service data preparation with IBM Data Refinery': 2,\n",
       "  'Using Apache Spark as a parallel processing framework for accessing REST based data services': 2,\n",
       "  'Use the Primary Index': 2},\n",
       " 'doc_status': {}}"
      ]
     },
     "execution_count": 10,
     "metadata": {},
     "output_type": "execute_result"
    }
   ],
   "source": [
    "# find all values in the categorical columns, which appears more the once\n",
    "# count the number of them\n",
    "dict_multi_val = {}\n",
    "for column in list(df_articles.columns):\n",
    "    dict_multi_val[column] = {}\n",
    "    if len(df_articles[column].unique()) > 1 and len(df_articles[column].unique()) < df_articles.shape[0]:\n",
    "        for unique_value in df_articles[column].unique():\n",
    "            if len(df_articles[df_articles[column]==unique_value].index) > 1:\n",
    "                dict_multi_val[column][unique_value] = len(df_articles[df_articles[column]==unique_value].index)      \n",
    "\n",
    "dict_multi_val"
   ]
  },
  {
   "cell_type": "code",
   "execution_count": 11,
   "id": "06d2a7b0",
   "metadata": {},
   "outputs": [
    {
     "name": "stdout",
     "output_type": "stream",
     "text": [
      "-------------\n",
      "50\n",
      "-------------\n",
      "     article_id  \\\n",
      "50           50   \n",
      "365          50   \n",
      "\n",
      "                                                                                                                                                                                                                                                                                                                                                                                                                                                                                                                                                                                                                                                                                                                                                                                                                                                                                                                                                                                                                                                                                                                                                                                                                                                                                                                                                                                                                                                                                                                                                                                                                                                                                                                                                                                                                                                                                                                                                                                                                                                                                                                                                                                                                                                                                                                                                                                                                                                                                                                                                                                                                                                                                                                                                                                                                                                                                                                                                                                                                                                                                                                                                                                                                                                                                                                                                                                                                                                                                                                                                                                                                                                                                                                                                                                                                                                                                                                                                                                                                                                                                                                                                                                                                                                                                                                                                                                                                                                                                                                                                                                                                                                                                                                                                                                                                                                                                                                                                                                                                                                                                                                                                                                                                                                                                                                                                                                                                                                                                                                                                                                                                                                                                                                                                                                                                                                                                                                                                                                                                                                                                                                                                                                                                                                                                                                                                                                                                                                                                                                                                                                                                                                                                                                                                                                                                                                                                                                                                                                                                                                                                                                                                                                                                                                                                                                                                                                                                                                                                                                                                                                                                                                                                                                                                                                                                                                                                                                                                                                                                                                                                                                                                                                                                                                                                                                                                                                                                                                                                                                                                                                                                                                                                                                                                                                                                                                                                                                                                                                                                                                                                                                                                                                                                                                                                                                                                                                                                                                                                                                                                                                                                                                                                                                                                                                                                                                                                                                                                                                                                                                                                                                                                                                                                                                                                                                                                                                                                                                                                                                                                                                                                                                                                                                                                                                                                                                                                                                                                                                                                                                                                                                                                                                                                                                                                                                                                                                                                                                                                                                                                                                                                                                                          doc_body  \\\n",
      "50                                                                                                                                                                                                                                                                                                                                                                                                                                                                                                                                                                                                                                                                                                                                                                                                                                                                                                                                                                                                                                                                   Follow Sign in / Sign up Home About Insight Data Science Data Engineering Health Data AI Never miss a story from Insight Data , when you sign up for Medium. Learn more Never miss a story from Insight Data Get updates Get updates Sebastien Dery Blocked Unblock Follow Following I don’t know what I’m doing; but then neither do you so it’s all good. Master\\r\\nof Layers, Protector of the Graph, Wielder of Knowledge. #OpenScience Oct 16\\r\\n--------------------------------------------------------------------------------\\r\\n\\r\\nGRAPH-BASED MACHINE LEARNING: PART I\\r\\nCOMMUNITY DETECTION AT SCALE\\r\\nDuring the seven-week Insight Data Engineering Fellows Program recent grads and experienced software engineers learn the latest open source technologies by building a data platform to handle large, real-time datasets.\\r\\n\\r\\nSebastien Dery (now a Data Science Engineer at Yewno ) discusses his project on community detection on large datasets.\\r\\n\\r\\n\\r\\n--------------------------------------------------------------------------------\\r\\n\\r\\n#tltr : Graph-based machine learning is a powerful tool that can easily be merged\\r\\ninto ongoing efforts. Using modularity as an optimization goal provides a\\r\\nprincipled approach to community detection. Local modularity increment can be\\r\\ntweaked to your own dataset to reflect interpretable quantities. This is useful\\r\\nin many scenarios, making it a prime candidate for your everyday toolbox.Many important problems can be represented and studied using graphs — social\\r\\nnetworks, interacting bacterias, brain network modules, hierarchical image\\r\\nclustering and many more.\\r\\n\\r\\nIf we accept graphs as a basic means of structuring and analyzing data about the\\r\\nworld, we shouldn’t be surprised to see them being widely used in Machine\\r\\nLearning as a powerful tool that can enable intuitive properties and power a lot\\r\\nof useful features. Graph-based machine learning is destined to become a\\r\\nresilient piece of logic, transcending a lot of other techniques. See more in\\r\\nthis recent blog post from Google Research\\r\\n\\r\\nThis post explores the tendencies of nodes in a graph to spontaneously form\\r\\nclusters of internally dense linkage (hereby termed “community”); a remarkable\\r\\nand almost universal property of biological networks. This is particularly\\r\\ninteresting knowing that a lot of information can be extrapolated from a node’s\\r\\nneighbor (e.g. think recommendation system, respondent analysis, portfolio\\r\\nclustering). So how can we extract this kind of information?\\r\\n\\r\\nCommunity Detection aims to partition a graph into clusters of densely connected nodes, with the\\r\\nnodes belonging to different communities being only sparsely connected.\\r\\n\\r\\nGraph analytics concerns itself with the study of nodes (depicted as disks) and\\r\\ntheir interactions with other nodes (lines). Community Detection aims to\\r\\nclassify nodes by their “clique”.“ Is it the same as clustering? ”\\r\\n\\r\\n * Short answer: Yes .\\r\\n * Long answer: For all intents and purposes, yes it is .\\r\\n\\r\\nSo why shouldn’t I just use my good old K-Means? You absolutely should, unless\\r\\nyour data and requirements don’t work well with that algorithm’s assumptions,\\r\\nnamely:\\r\\n\\r\\n 1. K number of clusters\\r\\n 2. Sum of Squared Error (SSE) as the right optimization cost\\r\\n 3. All variable have the same variance\\r\\n 4. The variance of the distribution of each attribute is spherical\\r\\n\\r\\nFor a more in-depth look click here .\\r\\n\\r\\nFirst off, let’s drop this idea of SSE and choose a more relevant notation of\\r\\nwhat we’re looking for: the internal versus external relationships between nodes\\r\\nof a community. Let’s discuss the notion of modularity.\\r\\n\\r\\nwhere: nc is the number of communities; lc number of edges within; dc sum of vertex degree; and m the size of the graph (number of edges). We will be using this equation as a\\r\\nglobal metric of goodness during our search for an optimal partitioning. In a nutshell: Higher score will be given to a community configuration offering higher\\r\\ninternal versus external linkage.So all I have to do is optimize this and we’re done, right?\\r\\n\\r\\nA major problem in the theoretical formulation of this optimization scheme is\\r\\nthat we need an all-knowing knowledge of the graph topology (geometric\\r\\nproperties and spatial relations). This is rather, let’s say, intractable . Apparently we can’t do any better than to try all possible subsets of the\\r\\nvertices and check to see which, if any, form communities. The problem of finding the largest clique in a graph is thus said to be NP-hard .\\r\\n\\r\\nHowever, several algorithms have been proposed over the years to find reasonably good partitions in reasonable amounts of time, each with its own particular flavor. This post focuses on a\\r\\nspecific family of algorithms called agglomerative . These algorithms work very simply by collecting (or merging) nodes together.\\r\\nThis has a lot of advantages since it typically only requires a knowledge of first degree neighbors and small incremental merging steps , to bring the global solution towards stepwise equilibriums.\\r\\n\\r\\nYou might point out that the modularity metric gives a global perspective on the\\r\\nstate of the graph and not a local indicator. So, how does this translate to the\\r\\nsmall local increment that I just mentioned?\\r\\n\\r\\nThe basic approach does indeed consists of iteratively merging nodes that\\r\\noptimize a local modularity so let’s go ahead and define that as well:\\r\\n\\r\\nwhere ∑ in is the sum of weighted links inside C, ∑ tot sum of weighted links incident to nodes in C, k i sum of weighted links incident to node i , k i, in sum of weighted links going from i to nodes in C and m a normalizing factor as the sum of weighted links for the whole graph. (Sorry, Medium doesn’t allow subscript and superscript)This is part of the magic for me as this local optimization function can easily\\r\\nbe translated to an interpretable metric within the domain of your graph. For\\r\\nexample,\\r\\n\\r\\n * Community Strength: Sum of Weighted Link within a community.\\r\\n * Community Popularity: Sum of Weighted Link incident to nodes within a specific community.\\r\\n * Node Belonging: Sum of Weighted Link from a node to a community.\\r\\n\\r\\nThere’s also nothing stopping from adding more terms to the previous equation\\r\\nthat are specific to your dataset. In other words, the weighted links can be a\\r\\nfunction of the type of nodes computed on-the-fly (useful if you’re dealing with\\r\\na multidimensional graph with various types of relationships and nodes).\\r\\n\\r\\nExample of converging iterations before the Compress phaseNow that we’re all set with our optimization function and local cost, the\\r\\ntypical agglomerative strategy consists of two iterative phases ( Transfer and Compress ). Assuming a weighted network of N nodes, we begin by assigning a different community to each node of the network.\\r\\n\\r\\n 1. Transfer : For each node i, consider its neighbors j and evaluate the gain in modularity by swapping c_i for c_j . The greedy process transfers the node into the neighboring community,\\r\\n    maximizing the gain in modularity (assuming the gain is positive). If no\\r\\n    positive gain is possible, the node i stays in its original community. This process is applied to all nodes until\\r\\n    no individual move can improve the modularity (i.e. a local maxima of\\r\\n    modularity is attained — a state of equilibrium).\\r\\n 2. Compress : building a new network whose nodes are the communities found during the\\r\\n    first phase; a process termed compression (see Figure below). To do so, edge weights between communities are computed\\r\\n    as the sum of the internal edges between nodes in the corresponding two\\r\\n    communities.\\r\\n\\r\\nAgglomerative process: Phase one converges to a local equilibrium of local\\r\\nmodularity. Phase two consist in compressing the graph for the next iteration,\\r\\nthus reducing the number of nodes to consider and incidentally computation time\\r\\nas well.Now the tricky part: as this is a greedy algorithm , you’ll have to define a stopping criteria based on your case scenario and the\\r\\ndata at hand.\\r\\n\\r\\nHow to define this criteria? It can be a lot of things: a maximum number of iterations, a minimum modularity\\r\\ngain during the transfer phase, or any other relevant piece of information\\r\\nrelated to your data that would inform you that it needs to stop.\\r\\n\\r\\nStill not sure when to stop ? Just make sure you save every intermediate step of the iterative process\\r\\nsomewhere, let the optimization run until there’s only one node left in your\\r\\ngraph, and then look back at your data! The interesting part is that by keeping\\r\\ntrack of each step, you also profit from a hierarchical view of your communities\\r\\nwhich can be further explored and leveraged.\\r\\n\\r\\nIn a follow up post, I will discuss how we can achieve this on a distributed\\r\\nsystem using Spark GraphX , part of my project while at the Insight Data Engineering Fellows Program .\\r\\n\\r\\n[0803.0476] Fast unfolding of communities in large networks Abstract: We propose\\r\\na simple method to extract the community structure of large networks. Our method\\r\\nis a heuristic… arxiv.org\\r\\n--------------------------------------------------------------------------------\\r\\n\\r\\nWant to learn Spark, machine learning with graphs, and other big data tools from\\r\\ntop data engineers in Silicon Valley or New York? The Insight Data Engineering Fellows Program is a free 7-week professional training where you can build cutting edge big\\r\\ndata platforms and transition to a career in data engineering at top teams like\\r\\nFacebook, Uber, Slack and Squarespace.\\r\\n\\r\\nLearn more about the program and apply today .\\r\\n\\r\\nBig Data Data Science Machine Learning Social Network Analysis Insight Data Engineering 4 Blocked Unblock Follow FollowingSEBASTIEN DERY\\r\\nI don’t know what I’m doing; but then neither do you so it’s all good. Master of\\r\\nLayers, Protector of the Graph, Wielder of Knowledge. #OpenScience\\r\\n\\r\\nFollowINSIGHT DATA\\r\\nInsight Fellows Program —Your bridge to careers in Data Science and Data\\r\\nEngineering.   \n",
      "365  Follow Sign in / Sign up Home About Insight Data Science Data Engineering Health Data AI 5 * Share\\r\\n * 5\\r\\n * \\r\\n * \\r\\n\\r\\nNever miss a story from Insight Data , when you sign up for Medium. Learn more Never miss a story from Insight Data Get updates Get updates Sebastien Dery Blocked Unblock Follow Following Master of Layers, Protector of the Graph, Wielder of Knowledge. #OpenScience\\r\\n#NoBullshit 2 days ago\\r\\n--------------------------------------------------------------------------------\\r\\n\\r\\nGRAPH-BASED MACHINE LEARNING: PART 2\\r\\nCOMMUNITY DETECTION AT SCALE\\r\\nDuring the seven-week Insight Data Engineering Fellows Program recent grads and experienced software engineers learn the latest open source technologies by building a data platform to handle large, real-time datasets.\\r\\n\\r\\nSebastien Dery (now a Data Science Engineer at Yewno ) discusses his project on community detection on large datasets.\\r\\n\\r\\n\\r\\n--------------------------------------------------------------------------------\\r\\n\\r\\n#tltr : Graph-based machine learning is a powerful tool that can easily be merged\\r\\ninto ongoing efforts. This work reviews the feasibility of performing community\\r\\ndetection through a distributed implementation using GraphX. Embedded within the\\r\\nHadoop ecosystem, this modularity optimization approach allows the study of\\r\\nnetworks of unprecedented size. This change of scales, previously limited by\\r\\nRAM, opens exciting perspectives as the self modular structure of complex\\r\\nsystems have been shown to hold crucial information to understanding their\\r\\nnature.In my previous post , we discussed the foundation of community detection using modularity\\r\\noptimization. One major constraint however, is that your graph needs to fit in\\r\\nmemory. This quickly turns problematic as your number of nodes surpass billions, and\\r\\nthe number of edges becomes trillions.\\r\\n\\r\\nThankfully we can leverage distributed computation systems in order to solve this limitation. To do this we first need to define the state\\r\\nof a node so that it contains all the information needed during computation;\\r\\nthis will serve as a basic structure to pass around between the machines of our\\r\\ndistributed cluster.\\r\\n\\r\\n“Node” and “Vertex” are often used interchangeably in the literature. This class\\r\\nserves as structure for the nodes within the graph.Let’s also briefly review the process behind modularity optimization. This works\\r\\nby iteratively merging nodes that optimize for local modularity to yield a new, and smaller, graph. Repeat until satisfied.\\r\\n\\r\\nTwo great properties emerge from this approach\\r\\n\\r\\n 1. Locality : Each node requires knowledge from only its first-degree neighbors. This\\r\\n    means a minimal amount of data needs to be passed around between clusters.\\r\\n    This way, you don’t need to extensively jump from node to node across the\\r\\n    clusters in order to get the necessary information.\\r\\n 2. Independence : Each local computation occurs independently of the graph layout. Within\\r\\n    an iteration, every node can asynchronously send its information to its\\r\\n    neighbors without waiting for a blocking sequential set of operations to\\r\\n    happen.\\r\\n\\r\\nThese are important points to highlight as they make distributed computation a\\r\\nprime candidate for this memory problem. Turns out we can easily implement the\\r\\nlogic behind those properties using nothing but a simple iteration and a\\r\\ndeveloper-defined halting criteria. As previously discussed this can take many forms; here are a few ideas for brainstorming:\\r\\n\\r\\n * Scheduled based on a predefined number of iterations\\r\\n * Hits a specific total number of communities\\r\\n * Modularity gain between iteration is below a threshold\\r\\n\\r\\nSimple iteration over the two stage process of our optimization: transfer and\\r\\ncompress.Let’s dive into the initial step of transferring community between nodes.\\r\\nRemember that each node needs the information from its neighbors in order to\\r\\ncompute the gradient for local modularity.\\r\\n\\r\\nTRANSFER\\r\\nThe best way to do this at scale (when you don’t know where the information\\r\\nultimately is on disk) is by using distributed transactions (aka passing messages ). This type of architecture is ubiquitous in modern computer software; it is\\r\\nused as a way for the objects that make up a program to work with each other and\\r\\nas a way for objects and systems running on different computers (e.g., the\\r\\nInternet) to interact. In algorithms, you’ll often find it referenced under the\\r\\nname of Belief Propagation or simply message passing . In the context of community detection, each node sends a message to its\\r\\nneighbors with content along the lines of:\\r\\n\\r\\n“ Hey I’m your friendly neighbor Node 3 from Community 12 ”\\r\\n\\r\\nBy independently sending messages to their first degree neighbors, each node can\\r\\nretrieve all the information necessary for them to optimize for local\\r\\nmodularity. The content of each message can easily be tweaked thus adding\\r\\nconsiderable flexibility to your approach.If you’ve ever worked with graphs you’re likely to be very familiar with the\\r\\nconcepts of vertices and edges . Should we perform the message passing exhaustively you’d basically go through\\r\\neach vertex and send a message for each of its edges. This is not an\\r\\nintrinsically bad approach if that’s all you have to work with. Turns out that\\r\\nin the world of GraphX we have access to a third primitive for easy manipulation of our data: the triplet .\\r\\n\\r\\nThe three different types of view allowed within GraphX. Taken from AMPLab .The triplet logically joins the vertex and edge properties for a simplified and\\r\\nuseful view. Literally, the EdgeTriplet class extends the Edge class by simply adding the srcAttr and dstAttr members containing the source and destination properties respectively.\\r\\n\\r\\nBy reducing the triplets view, each node receives N messages corresponding to its N first degree neighbors. sendMsg and mergeMsg are both internal functions which perform the necessary aggregation for the\\r\\nlocal modularity update. Independently, and in parallel, each node waits for its\\r\\nturn to reduce all its messages into a coherent local sum of weighted edges, and\\r\\nmake a decision based on the local modularity deltaQ of each neighboring community.\\r\\n\\r\\nA few iterations later, the graph has converged to a local equilibrium (e.g. a\\r\\nminimal amount of nodes feel the need to change community). The algorithm can\\r\\nnow progress to the next step of compressing those communities into a compact\\r\\nrepresentation. This is done by creating a new graph with a new set of nodes\\r\\n(corresponding to each community) and edges being inferred from the edges during\\r\\nthe previous computation (e.g. average or sum of external edges).\\r\\n\\r\\nCOMPRESSION\\r\\nWhat function to choose really depends on the use case (e.g. averaging, total\\r\\nsum, maximum, softmax , etc. are all valid functions, although their respective advantages remains\\r\\nunclear in this particular scenario). When in doubt, let’s use a simple average.\\r\\nNote that additional information, say the internal coherence within a community,\\r\\ncan be propagated in a similar fashion to the condensed node and provide\\r\\nvaluable information.\\r\\n\\r\\nEffect of compressing community into single nodes at each iteration.Finally, here we have a fully functional procedure to perform modularity\\r\\noptimization on graphs of ridiculously large size, assuming we have enough\\r\\ncomputers to store all the information on disk.\\r\\n\\r\\nCAVEATS AND TIPS\\r\\nCOMPUTATION TIME\\r\\nNote that the number of meta-communities naturally decreases at each pass, and\\r\\nas a consequence most of the computing time is used in the first pass. This\\r\\nsuggests pre-ordering of the data would hold considerable benefit in terms of\\r\\ncomputation time.\\r\\n\\r\\nOptimizing for node locality at the cluster level means less transfer between\\r\\nmachines.CONVERGENCE\\r\\nThis approach does not necessarily converge to the optimal solution . To improve this, multiple iterations can increase confidence over the\\r\\nstructure of your data. Conveniently, this also offers a proxy for the\\r\\nprobability of two nodes belonging to the same community.\\r\\n\\r\\nLAYOUT\\r\\nTake into account graph connectivity when determining the usefulness of this\\r\\nstrategy. For example, for a completely connected and unweighted graph, the\\r\\noutput will be degenerate. Consider thresholding the graph beforehand to extract\\r\\na more sparse representation of your data.\\r\\n\\r\\nThe adequateness of modularity optimization is dependent on the connectivity\\r\\npattern of your graph. For example, in a lattice layout this algorithm will\\r\\nperform rather poorly. Modularity optimization doesn’t guarantee adequate\\r\\nclustering; thus obtaining a community at the end is not enough to conclusively\\r\\nsay a node decidedly belongs to that group (or even any group, for that matter).HIERARCHY\\r\\nThe iterative nature of this process offers a hierarchical view between\\r\\ncommunities of subsequent iteration. The intermediary step should therefore be\\r\\nsaved for further investigation as they likely yield valuable information on the\\r\\nstructural complexity of the data. This saving procedure is not covered in this\\r\\npost but should be trivial to introduce (insert configuration state into your\\r\\nfavorite database) between iteration.\\r\\n\\r\\nSUMMARY\\r\\nThis work reviewed the feasibility of performing community detection through a\\r\\ndistributed implementation using GraphX . Embedded within the Hadoop ecosystem , this modularity optimization approach allows the study of networks of\\r\\nunprecedented size. This change of scales, previously limited by RAM, opens\\r\\nexciting perspectives as the self modular structure of complex systems have been\\r\\nshown to hold crucial information to understanding their nature. This enables,\\r\\namong others, targeted marketing , market segmentation , gene clustering , topic modeling , etc.\\r\\n\\r\\nBeing an unsupervised learning technique and an initial starting point for a lot\\r\\nof analysis, the low barriers of entry make this approach applicable to a wide\\r\\nrange of datasets.\\r\\n\\r\\nDid I miss something crucial to get you up and running? Have something to add?\\r\\nWould love to hear your experience with this type of approach!\\r\\n\\r\\n\\r\\n--------------------------------------------------------------------------------\\r\\n\\r\\nWant to learn Spark, machine learning with graphs, and other big data tools from\\r\\ntop data engineers in Silicon Valley or New York? The Insight Data Engineering Fellows Program is a free 7-week professional training where you can build cutting edge big\\r\\ndata platforms and transition to a career in data engineering.\\r\\n\\r\\nLearn more about the program and apply today .\\r\\n\\r\\nBig Data Data Science Machine Learning Insight Data Engineering Social Network 5 Blocked Unblock Follow FollowingSEBASTIEN DERY\\r\\nMaster of Layers, Protector of the Graph, Wielder of Knowledge. #OpenScience\\r\\n#NoBullshit\\r\\n\\r\\nFollowINSIGHT DATA\\r\\nInsight Fellows Program —Your bridge to careers in Data Science and Data\\r\\nEngineering.   \n",
      "\n",
      "                                                                                                                                                                                           doc_description  \\\n",
      "50                                                                                                                                                                            Community Detection at Scale   \n",
      "365  During the seven-week Insight Data Engineering Fellows Program recent grads and experienced software engineers learn the latest open source technologies by building a data platform to handle large…   \n",
      "\n",
      "                    doc_full_name doc_status  \n",
      "50   Graph-based machine learning       Live  \n",
      "365  Graph-based machine learning       Live  \n",
      "-------------\n",
      "221\n",
      "-------------\n",
      "     article_id  \\\n",
      "221         221   \n",
      "692         221   \n",
      "\n",
      "                                                                                                                                                                                                                                                                                                                                                                                                                                                                                                                                                                                                                                                                                                                                                                                                                                                                                                                                                                                                                                                                                                                                                                                                                                                                                                                                                                                                                                                                                                                                                                                                                                                                                                                                                                                                                                                                                                                                                                                                                                                                                                                                                                                                                                                                                                                                                                                                                                                                                                                                                                                                                                                                                                                                                                                                                                                                                                                                                                                                                                                                                                                                                                                                                                                                                                                                                                                                                                                                                                                                                                                                                                                                                                                                                                                                                                                                                                                                                                                                                                                                                                                                                                                                                                                                                                                                                                                                                                                                                                                                                                                                                                                                                                                                                                                                                                                                                                                                                                                                                                                                                                                                                                                                                                                                                                                                                                                                                                                                                                                                                                                                                                                                                                                                                                                                                                                                                                                                                                                                                                                                                                                                                                                                                                                                                                                                                                                                                                                                                                                                                                                                                                                                                                                                                                                                                                                                                                                                                                                                                                                                                                                                                                                                                                                                                                                                                                                                                                                                                                                                                                                                                                                                                                                                                                                                                                                                                                                                                                                                                                                                                                                                                                                                                                                                                                                                                                                                                                                                                                                                                                                                                                                                                                                                                                                                                                                                                                                                                                                                                                                                                                                                                                                                                                                                                                                                                                                                                                                                                                                                                                                                                                                                                                                                                                                                                                                                                                                                                                                                                                                                                                                                                                                                                                                                                                                                                                                                                                                                                                                                                                                                                                                                                                                                                                                                                                                                                                                                                                                                                                                                                                                                                                                                                                                                                                                                                                                                                                                                                                                                                                                                                                                                                                                                                                                                                                                                                                                                                                                                                                                                                                                                                                                                                                                                                                                                                                                                                                                                                                                                                                                                                                                                                                                               doc_body  \\\n",
      "221  * United States\\r\\n\\r\\nIBM® * Site map\\r\\n\\r\\nSearch within Bluemix Blog Bluemix Blog * About Bluemix * What is Bluemix\\r\\n    * Getting Started\\r\\n    * Case Studies\\r\\n    * Hybrid Architecture\\r\\n    * Open Source\\r\\n    * Trust, Security, Privacy\\r\\n    * Data Centers\\r\\n    * Our Network\\r\\n    * Automation\\r\\n    * Architecture Center\\r\\n   \\r\\n   \\r\\n * Products * Compute Infrastructure\\r\\n    * Compute Services\\r\\n    * Hybrid Deployments\\r\\n    * Watson\\r\\n    * Internet of Things\\r\\n    * Mobile\\r\\n    * DevOps\\r\\n    * Data Analytics\\r\\n    * Network\\r\\n    * Open Source\\r\\n    * Storage\\r\\n    * Security\\r\\n   \\r\\n   \\r\\n * Services * Bluemix Services\\r\\n    * Garage\\r\\n   \\r\\n   \\r\\n * Pricing\\r\\n * Support * Support\\r\\n    * Contact Us\\r\\n    * Resources\\r\\n    * Docs\\r\\n   \\r\\n   \\r\\n * Blog * How-tos\\r\\n    * Trending\\r\\n    * What's New\\r\\n    * Events\\r\\n   \\r\\n   \\r\\n * Partners * Partners\\r\\n    * Become a Partner\\r\\n    * Find a Partner\\r\\n   \\r\\n   \\r\\n * Sign up\\r\\n\\r\\nDATA ANALYTICSHOW SMART CATALOGS CAN TURN THE BIG DATA FLOOD INTO AN OCEAN OF OPPORTUNITY\\r\\nAugust 1, 2017 | Written by: Jay Limburn\\r\\n\\r\\nCategorized: Data Analytics\\r\\n\\r\\nShare this post:\\r\\n\\r\\n\\r\\n\\r\\n\\r\\n\\r\\nOne of the earliest documented catalogs was compiled at the great library of\\r\\nAlexandria in the third century BC, to help scholars manage, understand and\\r\\naccess its vast collection of literature. While that cataloging process\\r\\nrepresented a massive undertaking for the Alexandrian librarians, it pales in\\r\\ncomparison to the task of wrangling the volume and variety of data that modern\\r\\norganizations generate.\\r\\n\\r\\nNowadays, data is often described as an organization’s most valuable asset, but\\r\\nunless users can easily sift through data artifacts to find the information they\\r\\nneed, the value of that data may remain unrealized. Catalogs can solve this\\r\\nproblem by providing an indexed set of information about the organization’s\\r\\ndata, storing metadata that describes all assets and providing a reference to\\r\\nwhere they can be found or accessed.\\r\\n\\r\\nIt’s not just the size and complexity of the data that makes cataloging a tough\\r\\nchallenge: organizations also need to be able to perform increasingly\\r\\ncomplicated operations on that data at high speed, and even in real-time. As a\\r\\nresult, technology leaders must continually find better ways to solve today’s\\r\\nversion of the same cataloging challenges faced in Alexandria all those years\\r\\nago.\\r\\n\\r\\n\\r\\n\\r\\nENTER IBM\\r\\nIBM’s aim with Watson Data Platform is to make data accessible for anyone who uses it. An integral part of Watson\\r\\nData Platform will be a new intelligent asset catalog, IBM Data Manager, a\\r\\nsolution underpinned by a central repository of metadata describing all the\\r\\ninformation managed by the platform. Unlike many other catalog solutions on the\\r\\nmarket, the intelligent asset catalog will also offer full end-to-end\\r\\ncapabilities around data lifecycle and governance.\\r\\n\\r\\nBecause all the elements of Watson Data Platform can utilize the same catalog,\\r\\nusers will be able to share data with their colleagues more easily, regardless\\r\\nof what the data is, where it is stored, or how they intend to use it. In this\\r\\nway, the intelligent asset catalog will unlock the value held within that data\\r\\nacross user groups—helping organizations use this key asset to its full\\r\\npotential.\\r\\n\\r\\n\\r\\n\\r\\nBREAKING DOWN SILOS\\r\\nWith Watson Data Platform, data engineers, data scientists and other knowledge\\r\\nworkers throughout an enterprise can search for, share and leverage assets\\r\\n(including datasets, files, connections, notebooks, data flows, models and\\r\\nmore). Assets can be accessed using the Data Science Experience web user interface to analyze data,\\r\\n\\r\\nTo collaborate with colleagues, users can put assets into a Project that acts as\\r\\na shared sandbox where the whole team can access and utilize them. Once their\\r\\nwork is complete, they can submit any resulting content to the catalog for\\r\\nfurther reuse by other people and groups across the organization.\\r\\n\\r\\nRich metadata about each asset makes it easy for knowledge workers to find and\\r\\naccess relevant resources. Along with data files, the catalog can also include\\r\\nconnections to databases and other data sources, both on- and off-premises,\\r\\ngiving users a full 360-degree view to all information relevant to their\\r\\nbusiness, regardless of where or how it is stored.\\r\\n\\r\\n\\r\\n\\r\\nMANAGING DATA OVER TIME\\r\\nIt’s important to look at data as an evolving asset, rather than something that\\r\\nstays fixed over time. To help manage and trace this evolution, IBM Data Manager\\r\\nwill keep a complete track of which users have added or modified each asset, so\\r\\nthat it is always clear who is responsible for any changes.\\r\\n\\r\\n\\r\\n\\r\\nSMART CATALOG CAPABILITIES FOR BIG DATA MANAGEMENT\\r\\nThe concept of catalogs may be simple, but when they’re being used to make sense\\r\\nof huge amounts of constantly changing data, smart capabilities make all the\\r\\ndifference. Here are some of the key smart catalog functionalities that we see\\r\\nas integral to tackling the big data challenge, and that we will be aiming to\\r\\ninclude in upcoming releases of IBM Data Manager.\\r\\n\\r\\n\\r\\n\\r\\nDATA AND ASSET TYPE AWARENESS\\r\\nWhen a user chooses to preview or view an asset of a particular type, the data\\r\\nand asset type awareness feature will automatically launch the data in the best\\r\\nviewer—such as a shaper for a dataset, or a canvas for a data flow. This will\\r\\nsave time and boost productivity for users, optimizing discovery and making it\\r\\neasier to work with a variety of data types without switching tools.\\r\\n\\r\\n\\r\\n\\r\\nINTELLIGENT SEARCH AND EXPLORATION\\r\\nBy combining metadata, machine learning-based algorithms and user interaction\\r\\ndata, it is possible to fine-tune search results over time. Presenting users\\r\\nwith the most relevant data for their purpose will increase usefulness of the\\r\\nsolution the more it is used.\\r\\n\\r\\n\\r\\n\\r\\nSOCIAL CURATION\\r\\nEffective use of data throughout your organization is a two-way street: when\\r\\nusers discover a useful dataset, it’s important for them to help others find it\\r\\ntoo. Users can be encouraged to engage by taking advantage of curation features,\\r\\nenabling them to tag, rank and comment on assets within the catalog. By\\r\\naugmenting the metadata for each asset, this can help the catalog’s intelligent\\r\\nsearch algorithms guide users to the assets that are most relevant to their\\r\\nneeds.\\r\\n\\r\\n\\r\\n\\r\\nDATA LINEAGE\\r\\nIf data is incomplete or inaccurate, utilizing it can cause more problems than\\r\\nit solves. On the other hand, if data is accurate but users do not trust it,\\r\\nthey might not use it when it could make a real difference. In either scenario,\\r\\ndata lineage can help.\\r\\n\\r\\nData lineage captures the complete history of an asset in the catalog: from its\\r\\noriginal source, through all the operations and transformations it has\\r\\nundergone, to its current state. By exploring this lineage, users can be\\r\\nconfident they know where assets have come from, how those assets have evolved,\\r\\nand whether they can be trusted.\\r\\n\\r\\n\\r\\n\\r\\nMONITORING\\r\\nTaking a step back to a higher-level view, monitoring features will help users\\r\\nkeep track of overall usage of the catalog. Real-time dashboards help chief data\\r\\nofficers and other data professionals monitor how data is being used, and\\r\\nidentify ways to increase its usage in different areas of the organization.\\r\\n\\r\\n\\r\\n\\r\\nMETADATA DISCOVERY\\r\\nWe have already mentioned that data needs to be seen as an evolving asset—which\\r\\nmeans our catalogs must evolve with it. We plan to make it easy for users to\\r\\naugment assets with metadata manually; in the future, it may also be possible to\\r\\nintegrate algorithms that can discover assets and capture their metadata\\r\\nautomatically.\\r\\n\\r\\n\\r\\n\\r\\nDATA GOVERNANCE\\r\\nFor many organizations, keeping data secure while ensuring access for authorized\\r\\nusers is one of the most significant information management challenges. You can\\r\\nmitigate this challenge with rule-based access control and automatic enforcement\\r\\nof data governance policies.\\r\\n\\r\\n\\r\\n\\r\\nAPIS\\r\\nFinally, the catalog will enable access to all these capabilities and more\\r\\nthrough a set of well-defined, RESTful APIs. IBM is committed to offering\\r\\napplication developers easy access to additional components of Watson Data Platform , such as persistence stores and data sets. We hope that they can use our\\r\\nservices to extend their current suite of data and analytics tools, to innovate\\r\\nand create smart new ways of working with data.\\r\\n\\r\\n\\r\\n\\r\\n\\r\\n\\r\\nIn our next post, we’ll discuss the challenges around data governance, and\\r\\nexplore how IBM Data Manager can help you make light work of addressing them.\\r\\n\\r\\nJAY LIMBURN\\r\\nJay Limburn\\r\\n\\r\\nTHOMAS SCHAECK\\r\\n\\r\\n\\r\\n\\r\\n\\r\\nPrevious Post\\r\\n\\r\\nWebSphere on the Cloud: Application Modernization (Phase 1)Next Post\\r\\n\\r\\nMaximize Control with IBM Bluemix Virtual serversADD COMMENT NO COMMENTS\\r\\nLEAVE A REPLY CANCEL REPLY\\r\\nYour email address will not be published. Required fields are marked *\\r\\n\\r\\nComment\\r\\n\\r\\nName *\\r\\n\\r\\nEmail *\\r\\n\\r\\nWebsite\\r\\n\\r\\n\\r\\n\\r\\n\\r\\n\\r\\n\\r\\n\\r\\nSearch for:RECENT POSTS\\r\\n * IBM Watson Machine Learning – General Availability\\r\\n * Locating IoT with Skyhook Precision Location\\r\\n * Monitoring IBM Bluemix Container Service with Sysdig Container Intelligence\\r\\n * Mobile Foundation Service integration with Mobile Analytics Service\\r\\n * Intel® Optane™ SSD DC P4800X Available Now on IBM Cloud\\r\\n\\r\\nARCHIVES\\r\\nArchives Select Month August 2017 July 2017 June 2017 May 2017 April 2017 March 2017 February 2017 January 2017 December 2016 November 2016 October 2016 September 2016 August 2016 July 2016 June 2016 May 2016 April 2016 March 2016 February 2016 January 2016 December 2015 November 2015 October 2015 September 2015 August 2015 July 2015 June 2015 May 2015 April 2015 March 2015 February 2015 January 2015 December 2014 November 2014 October 2014 September 2014 August 2014 July 2014 June 2014 May 2014 April 2014 March 2014 February 2014 November 2013TAGS\\r\\nanalytics announcements api apps Architecture Center best-of-bluemix Bluemix bluemix-support-notifications buildpacks client success cloud cloudant cloud foundry conference conferences containers dashdb deployment devops docker eclipse garage garage-method hackathon homepage hybrid interconnect iot java Kubernetes liberty local microservices mobile MobileFirst node.js OpenStack openwhisk security Spark swift twilio video watson webinar More Data Analytics StoriesData Analytics\\r\\n\\r\\nMEDTRONIC MAKES DIABETES MANAGEMENT EASIER WITH REAL-TIME INSIGHTS FROM IBM\\r\\nSTREAMS\\r\\nWith cases of both type I and type II diabetes rising, Medtronic recognized the\\r\\nneed to create a new generation of glucose monitoring solutions that would give\\r\\npeople the tools to manage their diabetes more easily, in combination with\\r\\nroutine support from healthcare professionals. Find out how they are working\\r\\nwith IBM Watson to help.\\r\\n\\r\\nContinue reading\\r\\n\\r\\n\\r\\n\\r\\nShare this post:\\r\\n\\r\\n\\r\\n\\r\\n\\r\\n\\r\\nData Analytics\\r\\n\\r\\nINTRODUCING A NEW LOOK AND FEEL FOR DB2 WAREHOUSE ON CLOUD\\r\\nToday, we're proud to announce the launch and immediate availability of the\\r\\nbrand new Db2 Warehouse on Cloud Web console and REST APIs! We want to make your\\r\\ninteraction with our world-class cloud data warehouse offering as seamless as\\r\\npossible, so we set out to completely redesign these two integral parts of our\\r\\nuser experience.\\r\\n\\r\\nContinue reading\\r\\n\\r\\n\\r\\n\\r\\nShare this post:\\r\\n\\r\\n\\r\\n\\r\\n\\r\\n\\r\\nData Analytics\\r\\n\\r\\nIBM DASHDB FOR ANALYTICS IS NOW DB2 WAREHOUSE ON CLOUD\\r\\nWe're rebranding dashDB for Analytics to Db2 Warehouse on Cloud.\\r\\n\\r\\nContinue reading\\r\\n\\r\\n\\r\\n\\r\\nShare this post:\\r\\n\\r\\n\\r\\n\\r\\n\\r\\n\\r\\nSIGN UP FOR A BLUEMIX TRIAL TODAY\\r\\n\\r\\n\\r\\nGet started free Learn more about Bluemix\\r\\n\\r\\nCONNECT WITH US\\r\\n\\r\\n\\r\\n * Contact\\r\\n * Privacy\\r\\n * Terms of use\\r\\n * Accessibility   \n",
      "692                                                                                                                                                                                                                                                                                                                                                                                                                                                                                                                                                                                                                                                                                                                                                                                                                                                                                                                                                                                                                                                                                                                                                                                                                                                                                                                                                                                                                                                                                                                                                                                                                                                                                                                                                                                                                                                                                                                                                                                                                                                                                                                                                                                                                                                                                                                                                                                                                                                                                                                                                                                                                                                                                                                                                                                                                                                                                                                                                                                                                                                                                                                                                                                                                                                                                                                                                                                                                                                                                                                                                                                                                                         Homepage Follow Sign in / Sign up Homepage * Home\\r\\n * Data Science Experience\\r\\n * Data Catalog\\r\\n * \\r\\n * Watson Data Platform\\r\\n * \\r\\n\\r\\nSusanna Tai Blocked Unblock Follow Following Offering Manager, Watson Data Platform | Data Catalog Oct 30\\r\\n--------------------------------------------------------------------------------\\r\\n\\r\\nHOW SMART CATALOGS CAN TURN THE BIG DATA FLOOD INTO AN OCEAN OF OPPORTUNITY\\r\\nOne of the earliest documented catalogs was compiled at the great library of\\r\\nAlexandria in the third century BC, to help scholars manage, understand and\\r\\naccess its vast collection of literature. While that cataloging process\\r\\nrepresented a massive undertaking for the Alexandrian librarians, it pales in\\r\\ncomparison to the task of wrangling the volume and variety of data that modern\\r\\norganizations generate.\\r\\n\\r\\nNowadays, data is often described as an organization’s most valuable asset, but\\r\\nunless users can easily sift through data artifacts to find the information they\\r\\nneed, the value of that data may remain unrealized. Catalogs can solve this\\r\\nproblem by providing an indexed set of information about the organization’s\\r\\ndata, storing metadata that describes all assets and providing a reference to\\r\\nwhere they can be found or accessed.\\r\\n\\r\\nIt’s not just the size and complexity of the data that makes cataloging a tough\\r\\nchallenge: organizations also need to be able to perform increasingly\\r\\ncomplicated operations on that data at high speed, and even in real-time. As a\\r\\nresult, technology leaders must continually find better ways to solve today’s\\r\\nversion of the same cataloging challenges faced in Alexandria all those years\\r\\nago.\\r\\n\\r\\nENTER IBM\\r\\nIBM’s aim with Watson Data Platform is to make data accessible for anyone who uses it. An integral part of Watson\\r\\nData Platform will be a new intelligent asset catalog, IBM Data Catalog , a solution underpinned by a central repository of metadata describing all the\\r\\ninformation managed by the platform. Unlike many other catalog solutions on the\\r\\nmarket, the intelligent asset catalog will also offer full end-to-end\\r\\ncapabilities around data lifecycle and governance.\\r\\n\\r\\nBecause all the elements of Watson Data Platform can utilize the same catalog,\\r\\nusers will be able to share data with their colleagues more easily, regardless\\r\\nof what the data is, where it is stored, or how they intend to use it. In this\\r\\nway, the intelligent asset catalog will unlock the value held within that data\\r\\nacross user groups — helping organizations use this key asset to its full\\r\\npotential.\\r\\n\\r\\nBREAKING DOWN SILOS\\r\\nWith Watson Data Platform, data engineers, data scientists and other knowledge\\r\\nworkers throughout an enterprise can search for, share and leverage assets\\r\\n(including datasets, files, connections, notebooks, data flows, models and\\r\\nmore). Assets can be accessed using the Data Science Experience web user interface to analyze data,\\r\\n\\r\\nTo collaborate with colleagues, users can put assets into a Project that acts as\\r\\na shared sandbox where the whole team can access and utilize them. Once their\\r\\nwork is complete, they can submit any resulting content to the catalog for\\r\\nfurther reuse by other people and groups across the organization.\\r\\n\\r\\nRich metadata about each asset makes it easy for knowledge workers to find and\\r\\naccess relevant resources. Along with data files, the catalog can also include\\r\\nconnections to databases and other data sources, both on- and off-premises,\\r\\ngiving users a full 360-degree view to all information relevant to their\\r\\nbusiness, regardless of where or how it is stored.\\r\\n\\r\\nMANAGING DATA OVER TIME\\r\\nIt’s important to look at data as an evolving asset, rather than something that\\r\\nstays fixed over time. To help manage and trace this evolution, IBM Data Catalog\\r\\nwill keep a complete track of which users have added or modified each asset, so\\r\\nthat it is always clear who is responsible for any changes.\\r\\n\\r\\nSMART CATALOG CAPABILITIES FOR BIG DATA MANAGEMENT\\r\\nThe concept of catalogs may be simple, but when they’re being used to make sense\\r\\nof huge amounts of constantly changing data, smart capabilities make all the\\r\\ndifference. Here are some of the key smart catalog functionalities that we see\\r\\nas integral to tackling the big data challenge.\\r\\n\\r\\nDATA AND ASSET TYPE AWARENESS\\r\\nWhen a user chooses to preview or view an asset of a particular type, the data\\r\\nand asset type awareness feature will automatically launch the data in the best\\r\\nviewer — such as a shaper for a dataset, or a canvas for a data flow. This will\\r\\nsave time and boost productivity for users, optimizing discovery and making it\\r\\neasier to work with a variety of data types without switching tools.\\r\\n\\r\\nINTELLIGENT SEARCH AND EXPLORATION\\r\\nBy combining metadata, machine learning-based algorithms and user interaction\\r\\ndata, it is possible to fine-tune search results over time. Presenting users\\r\\nwith the most relevant data for their purpose will increase usefulness of the\\r\\nsolution the more it is used.\\r\\n\\r\\nSOCIAL CURATION\\r\\nEffective use of data throughout your organization is a two-way street: when\\r\\nusers discover a useful dataset, it’s important for them to help others find it\\r\\ntoo. Users can be encouraged to engage by taking advantage of curation features,\\r\\nenabling them to tag, rank and comment on assets within the catalog. By\\r\\naugmenting the metadata for each asset, this can help the catalog’s intelligent\\r\\nsearch algorithms guide users to the assets that are most relevant to their\\r\\nneeds.\\r\\n\\r\\nDATA LINEAGE\\r\\nIf data is incomplete or inaccurate, utilizing it can cause more problems than\\r\\nit solves. On the other hand, if data is accurate but users do not trust it,\\r\\nthey might not use it when it could make a real difference. In either scenario,\\r\\ndata lineage can help.\\r\\n\\r\\nData lineage captures the complete history of an asset in the catalog: from its\\r\\noriginal source, through all the operations and transformations it has\\r\\nundergone, to its current state. By exploring this lineage, users can be\\r\\nconfident they know where assets have come from, how those assets have evolved,\\r\\nand whether they can be trusted.\\r\\n\\r\\nMONITORING\\r\\nTaking a step back to a higher-level view, monitoring features will help users\\r\\nkeep track of overall usage of the catalog. Real-time dashboards help chief data\\r\\nofficers and other data professionals monitor how data is being used, and\\r\\nidentify ways to increase its usage in different areas of the organization.\\r\\n\\r\\nMETADATA DISCOVERY\\r\\nWe have already mentioned that data needs to be seen as an evolving asset —\\r\\nwhich means our catalogs must evolve with it. We plan to make it easy for users\\r\\nto augment assets with metadata manually; in the future, it may also be possible\\r\\nto integrate algorithms that can discover assets and capture their metadata\\r\\nautomatically.\\r\\n\\r\\nDATA GOVERNANCE\\r\\nFor many organizations, keeping data secure while ensuring access for authorized\\r\\nusers is one of the most significant information management challenges. You can\\r\\nmitigate this challenge with rule-based access control and automatic enforcement\\r\\nof data governance policies.\\r\\n\\r\\nAPIS\\r\\nFinally, the catalog will enable access to all these capabilities and more\\r\\nthrough a set of well-defined, RESTful APIs. IBM is committed to offering\\r\\napplication developers easy access to additional components of Watson Data Platform , such as persistence stores and data sets. We hope that they can use our\\r\\nservices to extend their current suite of data and analytics tools, to innovate\\r\\nand create smart new ways of working with the data.\\r\\n\\r\\nLearn more about IBM Data Catalog\\r\\n\\r\\n\\r\\n--------------------------------------------------------------------------------\\r\\n\\r\\nWritten by Jay Limburn\\r\\nDistinguished Engineer and Offering Lead, Watson Data Platform\\r\\n\\r\\nOriginally published at www.ibm.com on August 1, 2017\\r\\n\\r\\n * Data Catalog\\r\\n * Data Management\\r\\n * Data Analytics\\r\\n * IBM\\r\\n * Ibm Watson\\r\\n\\r\\nA single golf clap? Or a long standing ovation?By clapping more or less, you can signal to us which stories really stand out.\\r\\n\\r\\nBlocked Unblock Follow FollowingSUSANNA TAI\\r\\nOffering Manager, Watson Data Platform | Data Catalog\\r\\n\\r\\nFollowIBM WATSON DATA PLATFORM\\r\\nBuild smarter applications and quickly visualize, share, and gain insights\\r\\n\\r\\n * \\r\\n * \\r\\n * \\r\\n * \\r\\n\\r\\nNever miss a story from IBM Watson Data Platform , when you sign up for Medium. Learn more Never miss a story from IBM Watson Data Platform Get updates Get updates   \n",
      "\n",
      "                                                                                                                                                                                        doc_description  \\\n",
      "221                                                                        When used to make sense of huge amounts of constantly changing data, smart catalog capabilities can make all the difference.   \n",
      "692  One of the earliest documented catalogs was compiled at the great library of Alexandria in the third century BC, to help scholars manage, understand and access its vast collection of literature…   \n",
      "\n",
      "                                                                   doc_full_name  \\\n",
      "221  How smart catalogs can turn the big data flood into an ocean of opportunity   \n",
      "692  How smart catalogs can turn the big data flood into an ocean of opportunity   \n",
      "\n",
      "    doc_status  \n",
      "221       Live  \n",
      "692       Live  \n",
      "-------------\n",
      "232\n",
      "-------------\n",
      "     article_id  \\\n",
      "232         232   \n",
      "971         232   \n",
      "\n",
      "                                                                                                                                                                                                                                                                                                                                                                                                                                                                                                                                                                                                                                                                                                                                                                                                                                                                                                                                                                                                                                                                                                                                                                                                                                                                                                                                                                                                                                                                                                                                                                                                                                                                                                                                                                                                                                                                                                                                                                                                                                                                                                                                                                                                                                                                                                                                                                                                                                                                                                                                                                                                                                                                                                                                                                                                                                                                                                                                                                                                                                                                                                                                                                                                                                                                                                                                                                                                                                                                                                                                                                                                                                                                                                                                                                                                                                                                                                                                                                                                                                                                                                                                                                                                                                                                                                                                                                                                                                                                                                                                                                                                                                                                                                                                                                                                                                                                                                                                                                                                                                                                                                                                                                                                                                                                                                                     doc_body  \\\n",
      "232  Homepage Follow Sign in Get started Homepage * Home\\r\\n * Data Science Experience\\r\\n * Data Catalog\\r\\n * IBM Data Refinery\\r\\n * \\r\\n * Watson Data Platform\\r\\n * \\r\\n\\r\\nCarmen Ruppach Blocked Unblock Follow Following Offering Manager for Data Refinery on Watson Data Platform at IBM Nov 14\\r\\n--------------------------------------------------------------------------------\\r\\n\\r\\nSELF-SERVICE DATA PREPARATION WITH IBM DATA REFINERY\\r\\nIf you are like most data scientists, you are probably spending a lot of time to\\r\\ncleanse, shape and prepare your data before you can actually start with the more\\r\\nenjoyable part of building and training machine learning models. As a data\\r\\nanalyst, you might face similar struggles to obtain data in a format you need to\\r\\nbuild your reports. In many companies data scientists and analysts need to wait\\r\\nfor their IT teams to get access to cleaned data in a consumable format.\\r\\n\\r\\nIBM Data Refinery addresses this issue. It provides an intuitive self-service\\r\\ndata preparation environment where you can quickly analyze, cleanse and prepare\\r\\ndata sets. It is a fully managed cloud service, available in open beta now.\\r\\n\\r\\nAnalyze and prepare your data\\r\\n\\r\\nWith IBM Data Refinery, you can interactively explore your data and use a wide\\r\\nrange of transformations to cleanse and transform data into the format you need\\r\\nfor analysis.\\r\\n\\r\\nYou can use a simple point-and-click interface for selecting and combining a\\r\\nwide range of built-in operations, such as filtering, replacing, and deriving\\r\\nvalues. It is also possible to quickly remove duplicates, split and concatenate\\r\\nvalues, and choose from a comprehensive list of text and math operations.\\r\\n\\r\\nInteractive data exploration and preparationIf you prefer to code, in IBM Data Refinery you can directly enter R commands\\r\\nvia R libraries such as dplyr. We provide code templates and in-context\\r\\ndocumentation to help you become productive with the R syntax more quickly.\\r\\n\\r\\nCode templates to help users with R syntaxIf you’re not satisfied with the shaping results, you can easily undo and change\\r\\noperations in the Steps side bar.\\r\\n\\r\\nThe interactive user interface works on a subset of the data to give you a\\r\\nfaster preview of the operations and results. Once you’re happy with the sample\\r\\noutput, you can apply the transformations on the entire data set and save all\\r\\ntransformation steps in a data flow. You can repeat the data flow later and\\r\\ntrack changes that were applied to your data. To accelerate the job execution,\\r\\nApache Spark is used as the execution engine.\\r\\n\\r\\nData profiling and visualization\\r\\n\\r\\nData shaping is an iterative and time-consuming process. In a traditional data\\r\\nscience workflow, you might use one tool to apply various transformations to\\r\\nyour data set, and then load the data into another tool to visualize and\\r\\nevaluate the results. Over many cycles, this continual tool hopping can become\\r\\nfrustrating.\\r\\n\\r\\nIBM Data Refinery soothes the pain by integrating both data transformations and\\r\\nvisualizations in a single interface, so you can move between views with a\\r\\nsimple click. You can use the Profile tab to view descriptive statistics of your\\r\\ndata columns in order to better understand the distribution of values. You can\\r\\ncontinue to apply transformations and the corresponding profile information\\r\\nadjusts automatically.\\r\\n\\r\\nOn the Visualization tab you can select a combination of columns to build charts\\r\\nusing Brunel (open source visualization library). IBM Data Refinery\\r\\nautomatically suggests appropriate plots and you can choose between 12\\r\\npre-defined chart types. You can adjust the appearance of the charts using\\r\\nBrunel syntax.\\r\\n\\r\\nConnecting to data wherever it resides\\r\\n\\r\\nIBM Data Refinery comes with a comprehensive set of 30 prebuilt data connectors\\r\\nso that you can set up connections to a wide range of commonly used on-premises\\r\\nand cloud data stores. You can connect to IBM as well as non-IBM services. If\\r\\nyour data service is hosted on IBM Cloud (formerly IBM Bluemix), you can\\r\\ndirectly access the data service instance from IBM Data Refinery.\\r\\n\\r\\nOnce you specify a connection and connect the data object to your data, you can\\r\\nstart to analyze and refine your data wherever it resides.\\r\\n\\r\\nTry out IBM Data Refinery! Sign up for free at: https://www.ibm.com/cloud/data-refinery\\r\\n\\r\\n * Data Science\\r\\n * Data Visualization\\r\\n * Data Analysis\\r\\n * Data Refinery\\r\\n\\r\\nOne clap, two clap, three clap, forty?By clapping more or less, you can signal to us which stories really stand out.\\r\\n\\r\\nBlocked Unblock Follow FollowingCARMEN RUPPACH\\r\\nOffering Manager for Data Refinery on Watson Data Platform at IBM\\r\\n\\r\\nFollowIBM WATSON DATA PLATFORM\\r\\nBuild smarter applications and quickly visualize, share, and gain insights\\r\\n\\r\\n * \\r\\n * \\r\\n * \\r\\n * \\r\\n\\r\\nNever miss a story from IBM Watson Data Platform , when you sign up for Medium. Learn more Never miss a story from IBM Watson Data Platform Get updates Get updates   \n",
      "971                               Homepage Follow Sign in Get started * Home\\r\\n * Data Science Experience\\r\\n * Data Catalog\\r\\n * IBM Data Refinery\\r\\n * \\r\\n * Watson Data Platform\\r\\n * \\r\\n\\r\\nCarmen Ruppach Blocked Unblock Follow Following Offering Manager for Data Refinery on Watson Data Platform at IBM Nov 14, 2017\\r\\n--------------------------------------------------------------------------------\\r\\n\\r\\nSELF-SERVICE DATA PREPARATION WITH IBM DATA REFINERY\\r\\nIf you are like most data scientists, you are probably spending a lot of time to\\r\\ncleanse, shape and prepare your data before you can actually start with the more\\r\\nenjoyable part of building and training machine learning models. As a data\\r\\nanalyst, you might face similar struggles to obtain data in a format you need to\\r\\nbuild your reports. In many companies data scientists and analysts need to wait\\r\\nfor their IT teams to get access to cleaned data in a consumable format.\\r\\n\\r\\nIBM Data Refinery addresses this issue. It provides an intuitive self-service\\r\\ndata preparation environment where you can quickly analyze, cleanse and prepare\\r\\ndata sets. It is a fully managed cloud service, available in open beta now.\\r\\n\\r\\nAnalyze and prepare your data\\r\\n\\r\\nWith IBM Data Refinery, you can interactively explore your data and use a wide\\r\\nrange of transformations to cleanse and transform data into the format you need\\r\\nfor analysis.\\r\\n\\r\\nYou can use a simple point-and-click interface for selecting and combining a\\r\\nwide range of built-in operations, such as filtering, replacing, and deriving\\r\\nvalues. It is also possible to quickly remove duplicates, split and concatenate\\r\\nvalues, and choose from a comprehensive list of text and math operations.\\r\\n\\r\\nInteractive data exploration and preparationIf you prefer to code, in IBM Data Refinery you can directly enter R commands\\r\\nvia R libraries such as dplyr. We provide code templates and in-context\\r\\ndocumentation to help you become productive with the R syntax more quickly.\\r\\n\\r\\nCode templates to help users with R syntaxIf you’re not satisfied with the shaping results, you can easily undo and change\\r\\noperations in the Steps side bar.\\r\\n\\r\\nThe interactive user interface works on a subset of the data to give you a\\r\\nfaster preview of the operations and results. Once you’re happy with the sample\\r\\noutput, you can apply the transformations on the entire data set and save all\\r\\ntransformation steps in a data flow. You can repeat the data flow later and\\r\\ntrack changes that were applied to your data. To accelerate the job execution,\\r\\nApache Spark is used as the execution engine.\\r\\n\\r\\nProfile and visualize data\\r\\n\\r\\nData shaping is an iterative and time-consuming process. In a traditional data\\r\\nscience workflow, you might use one tool to apply various transformations to\\r\\nyour data set, and then load the data into another tool to visualize and\\r\\nevaluate the results. Over many cycles, this continual tool hopping can become\\r\\nfrustrating.\\r\\n\\r\\nIBM Data Refinery soothes the pain by integrating both data transformations and\\r\\nvisualizations in a single interface, so you can move between views with a\\r\\nsimple click. You can use the Profile tab to view descriptive statistics of your\\r\\ndata columns in order to better understand the distribution of values. You can\\r\\ncontinue to apply transformations and the corresponding profile information\\r\\nadjusts automatically.\\r\\n\\r\\nOn the Visualization tab you can select a combination of columns to build charts\\r\\nusing Brunel (open source visualization library). IBM Data Refinery\\r\\nautomatically suggests appropriate plots and you can choose between 12\\r\\npre-defined chart types. You can adjust the appearance of the charts using\\r\\nBrunel syntax.\\r\\n\\r\\nConnect to your data wherever it resides\\r\\n\\r\\nIBM Data Refinery comes with a comprehensive set of 30 prebuilt data connectors\\r\\nso that you can set up connections to a wide range of commonly used on-premises\\r\\nand cloud data stores. You can connect to IBM as well as non-IBM services. If\\r\\nyour data service is hosted on IBM Cloud (formerly IBM Bluemix), you can\\r\\ndirectly access the data service instance from IBM Data Refinery.\\r\\n\\r\\nOnce you specify a connection and connect the data object to your data, you can\\r\\nstart to analyze and refine your data wherever it resides.\\r\\n\\r\\nTry out IBM Data Refinery! Sign up for free at: https://www.ibm.com/cloud/data-refinery\\r\\n\\r\\n * Data Science\\r\\n * Data Visualization\\r\\n * Data Analysis\\r\\n * Data Refinery\\r\\n\\r\\nOne clap, two clap, three clap, forty?By clapping more or less, you can signal to us which stories really stand out.\\r\\n\\r\\n27 Blocked Unblock Follow FollowingCARMEN RUPPACH\\r\\nOffering Manager for Data Refinery on Watson Data Platform at IBM\\r\\n\\r\\nFollowIBM WATSON DATA\\r\\nBuild smarter applications and quickly visualize, share, and gain insights\\r\\n\\r\\n * 27\\r\\n * \\r\\n * \\r\\n * \\r\\n\\r\\nNever miss a story from IBM Watson Data , when you sign up for Medium. Learn more Never miss a story from IBM Watson Data Get updates Get updates   \n",
      "\n",
      "                                                                                                                                                                                       doc_description  \\\n",
      "232  If you are like most data scientists, you are probably spending a lot of time to cleanse, shape and prepare your data before you can actually start with the more enjoyable part of building and…   \n",
      "971  If you are like most data scientists, you are probably spending a lot of time to cleanse, shape and prepare your data before you can actually start with the more enjoyable part of building and…   \n",
      "\n",
      "                                            doc_full_name doc_status  \n",
      "232  Self-service data preparation with IBM Data Refinery       Live  \n",
      "971  Self-service data preparation with IBM Data Refinery       Live  \n",
      "-------------\n",
      "398\n",
      "-------------\n",
      "     article_id  \\\n",
      "399         398   \n",
      "761         398   \n",
      "\n",
      "                                                                                                                                                                                                                                                                                                                                                                                                                                                                                                                                                                                                                                                                                                                                                                                                                                                                                                                                                                                                                                                                                                                                                                                                                                                                                                                                                                                                                                                                                                                                                                                                                                                                                                                                                                                                                                                                                                                                                                                                                                                                                                                                                                                                                                                                                                                                                                                                                                                                                                                                                                                                                                                                                                                                                                                                                                                                                                                                                                                                                                                                                                                                                                                                                                                                                                                                                                                                                                                                                                                                                                                                                                                                                                                                                                                                                                                                                                                                                                                                                                                                                                                                                                                                                                                                                                                                                                                                                                                                                                                                                                                                                                                                                                                                                                                                                                                                                                                                                                                                                                                                                                                                                                                                                                                                                                                                                                                                                                                                                                                                                                                                                                                                                                                                                                                                                                                                                                                                                                                                                                                                                                                                                                                                                                                                                                                                                                                                                                                                                                                                                                                                                                                                                                                                                                                                                                                                                                                                                                                                                                                                                                                                                                                                                                                                                                                                                                                                                                                                                                                                                                                                                                                                                                                                                                                                                                                                                                                                                                                                                                                                                                                                                                                                                                                                                                                                                                                                                                                                                                                                                                                                                                                                                                                                                                                                                                                                                                                                                                                                                                                                                                                                                                                                                                                                                                                                                                                                                                                                                                                                                                                                                                                                                                                                                                                                                                                                                                                                                                                                                                                                                                                                                                                                                                                                                                                                                                                                                                                                                                                                                                                                                                                                                                                                                                     doc_body  \\\n",
      "399  Homepage Follow Sign in Get started * Home\\r\\n * Data Science Experience\\r\\n * Data Catalog\\r\\n * IBM Data Refinery\\r\\n * \\r\\n * Watson Data Platform\\r\\n * \\r\\n\\r\\nSourav Mazumder Blocked Unblock Follow Following Nov 27\\r\\n--------------------------------------------------------------------------------\\r\\n\\r\\nUSING APACHE SPARK AS A PARALLEL PROCESSING FRAMEWORK FOR ACCESSING REST BASED\\r\\nDATA SERVICES\\r\\nToday’s world of data science leverages data from various sources. Commonly,\\r\\nthese sources are Hadoop File System, Enterprise Data Warehouse, Relational\\r\\nDatabase systems, Enterprise file systems, etc. The data from these sources are\\r\\naccessed in bulk using connectors specific to the underlying technology and\\r\\noptimized for accessing large volume of data.\\r\\n\\r\\nHowever, many a times, a data science exploration/modeling exercise also needs\\r\\nto access data from sources that support only API-based data access. These\\r\\nAPI-based data sources/data services can be of various types. For example:\\r\\n\\r\\n * Data services (external or internal), which can provide curated/enriched data\\r\\n   in record-by-record manner.\\r\\n * Validation services for verifying the data using an API. For example Address\\r\\n   validation.\\r\\n * Machine learning/AI services, which provide prediction, recommendations, and\\r\\n   insights based on a single input record.\\r\\n * Service from internal systems (like CRM, MDM, etc.) of the organization,\\r\\n   which supports data access through API only in record-by-record manner.\\r\\n * And many more …\\r\\n\\r\\nThese API-based data services are commonly implemented using REST architectural\\r\\nstyle ( https://en.wikipedia.org/wiki/Representational_state_transfer ) and are designed to be called for single item (or a limited set of items) per\\r\\nrequest. While this works well when the API needs to be called from an online\\r\\napplication, the approach breaks down in situations when the API has to be\\r\\ncalled in bulk. For example, during an online sign-up process an address\\r\\nvalidation API can be called for the particular address of the user. But, say in\\r\\na health care analytics application, where addresses of thousands of doctors,\\r\\nwhich already exist in a database or were obtained as part of a bulk load from\\r\\nan external source, have to be verified, this approach will not work. Because of\\r\\nthe “single item per request” design of the API, you’d have to call the API\\r\\nthousands of times.\\r\\n\\r\\nCalling data service APIs in sequence — Processing Time = (# of Records)*(API\\r\\nresponse time)\\r\\n--------------------------------------------------------------------------------\\r\\n\\r\\nThe above pseudo code snippet shows how calling a target REST API service is\\r\\nhandled in a sequential manner. You must first load the list of parameter values\\r\\nfrom a file or table in the memory. Next run a loop. In the loop, the target\\r\\nREST API has to be called for each set of parameter values. From the response\\r\\nreturned by each call the output must be extracted. The output is typically\\r\\npopulated in a complex object like JSON, XML, etc. Next, the necessary part of\\r\\nthe output has to be added to a result array or collection. For that, you must\\r\\nknow the schema of the result beforehand so that you can process the result\\r\\naccordingly. Finally, you can filter, exploring, aggregating data from the\\r\\nresult array or collection. For all of these steps, you have to use\\r\\nlanguage-specific complex code.\\r\\n\\r\\nAlternatively, you could use a programming language-specific library related to\\r\\nmulti-processing/multi-threading that can parallelize the call to the API.\\r\\nHowever, with that approach the parallelization achieved from a single machine\\r\\nwould be minuscule — limited to the number of cores of the machine. Consider, a\\r\\ncase where someone is trying to get personality insights from tweets or Facebook\\r\\ncomments using a Natural Language Processing service. The tweets and comments\\r\\ncan be in tens to hundreds of thousands. So, using a single machine could take a\\r\\nnumber of hours to get the result. Hence, the approach should be to use a\\r\\ndistributed processing framework to make the API calls parallelized using\\r\\nmultiple cores of multiple machines with the least coding effort. Though it is\\r\\npossible to get distributed computing libraries or frameworks to achieve the\\r\\nsame in some programming languages like Java, C++ etc., they require a\\r\\nreasonable amount of coding and setup to achieve the same result. Achieving this\\r\\nin popular data science languages, like R or Python is actually more difficult\\r\\nas they are originally designed to run in single threaded/single machine\\r\\nenvironment.\\r\\n\\r\\nHere enters distributed computing frameworks like Apache Spark ( https://spark.apache.org/ ). REST APIs are inherently conducive to parallelization as each call to the\\r\\nAPI is completely independent of any other call to the same API. This fact, in\\r\\nconjunction with the parallel computing capability of Spark, can be leveraged to\\r\\ncreate a solution that solves the problem by delegating the API call to Spark’s\\r\\nparallel workers. Under this approach, one can package a specification for how\\r\\nto call the API along with the input data, and pass that to Spark to divide the\\r\\neffort among its workers (and tasks). The output can be assembled in set-level\\r\\nabstractions supported by Spark (like Dataframes or Datasets ) and passed back to the calling program. This approach not only helps you turn a\\r\\nsequential execution into a parallel one with the least coding effort, but also\\r\\nmakes it much easier to analyze and transform the returned result with an easier\\r\\ndata abstraction model to work with.\\r\\n\\r\\nThe performance benefit you get is tremendous in this approach. This turns a\\r\\nproblem that takes incremental time for computation (that increases linearly\\r\\nwith the number of records to process), to one that is much more efficient and\\r\\nscales linearly on a much lower slope — number of records to process divided by\\r\\nthe number of cores available to process them. Theoretically, one can make the\\r\\nprocess constant time by having enough cores to process ALL of the records at\\r\\nonce.\\r\\n\\r\\nTo enable the benefits of using Spark to call REST APIs, we are introducing a\\r\\ncustom data source for Spark, namely REST Data Source. It has been built by\\r\\nextending Spark’s Data Source API. This helps in delegating calls to the target\\r\\nREST API to a Spark level Task for each set of input parameter values/record.\\r\\nThis also enables the results from multiple API calls to be returned as one\\r\\nSpark Dataframe. The REST Data Source expects the input to be in the format of a\\r\\nSpark Temporary table. The results from the API calls are returned in a single\\r\\nDataframe of Rows including the input parameters in their corresponding column\\r\\nnames, as well as the output from the REST call in a structure matching that of\\r\\nthe target API’s response. You can check the schema of this Dataframe, and\\r\\naccess the result as necessary using Spark SQL.\\r\\n\\r\\nThe architecture of REST Data SourceThe above figure shows how REST Data Source works.\\r\\n\\r\\n 1. You first read different sets of parameter values (that have to be sent to\\r\\n    target REST API) from a file/table to a Spark Dataframe (say Input Data\\r\\n    Frame).\\r\\n 2. Then the Input Data Frame is passed to the REST Data Source.\\r\\n 3. The REST Data Source returns the results to another Dataframe, say Result\\r\\n    Data Frame.\\r\\n 4. Now you can use Spark SQL to explore, aggregate, and filter the result using\\r\\n    the Result Data Frame.\\r\\n\\r\\nREST Data Source internally calls the target REST API in parallel by executing\\r\\nmultiple tasks spawned by multiple worker processes running in different\\r\\nmachines. Each task is responsible for calling the target REST API Service for a\\r\\npart of the input (part of sets of parameter values).\\r\\n\\r\\nThe code snippet below demonstrates how to use REST Data Source in Python to get\\r\\nresults from Socrata Data Service (SODA API) for multiple sets of parameter\\r\\nvalues by calling the appropriate REST API in parallel.\\r\\n\\r\\nA sample code snippet showing use of REST Data Source to call REST API in\\r\\nparallelYou can configure the REST Data Source for different extent of parallelization.\\r\\nDepending on the volume of input sets of parameter values to be processed and\\r\\nthroughput supported by the target REST API server, you can pass the number of\\r\\npartitions to be used, and that can limit or extend the level of parallelization\\r\\nas needed. You can use this framework in all programming languages supported by\\r\\nSpark — Python, Scala, R, or Java — without any additional coding specific to\\r\\nthat programming language. Last, but not the least, you can also use this\\r\\nframework to ensure that the target API is called only once for a given set of\\r\\nparameter values. In this way you can avoid calling the target REST API multiple\\r\\ntimes for same set of parameter values. This is especially useful when you must\\r\\npay for the REST API being called or there is a limit per day for the same.\\r\\n\\r\\nSee \\r\\nhttps://github.com/sourav-mazumder/Data-Science-Extensions/tree/master/spark-datasource-rest for details of the REST Data Source.\\r\\n\\r\\nYou can also refer to this notebook \\r\\nhttps://dataplatform.ibm.com/analytics/notebooks/ae63f056-e267-443e-bfc0-b9331f51d68a/view?access_token=0ec63c6e031aa57d065a4e1c4b71733729db43b1490c331a44323cce28725b7d for an example of how to use the REST Data Source.\\r\\n\\r\\nSign up for a free Data Science Experience account ( https://datascience.ibm.com/ ) to try out this technique on a Spark cluster.\\r\\n\\r\\n * Big Data\\r\\n * Spark\\r\\n * Artificial Intelligence\\r\\n * Data Science\\r\\n * Rest Api\\r\\n\\r\\nOne clap, two clap, three clap, forty?By clapping more or less, you can signal to us which stories really stand out.\\r\\n\\r\\n21 Blocked Unblock Follow FollowingSOURAV MAZUMDER\\r\\nMedium member since Nov 2017 FollowIBM WATSON DATA PLATFORM\\r\\nBuild smarter applications and quickly visualize, share, and gain insights\\r\\n\\r\\n * 21\\r\\n * \\r\\n * \\r\\n * \\r\\n\\r\\nNever miss a story from IBM Watson Data Platform , when you sign up for Medium. Learn more Never miss a story from IBM Watson Data Platform Get updates Get updates   \n",
      "761                                                                                                                                                      Homepage Follow Sign in Get started Homepage * Home\\r\\n * Data Science Experience\\r\\n * Data Catalog\\r\\n * IBM Data Refinery\\r\\n * \\r\\n * Watson Data Platform\\r\\n * \\r\\n\\r\\nSourav Mazumder Blocked Unblock Follow Following Nov 27\\r\\n--------------------------------------------------------------------------------\\r\\n\\r\\nUSING APACHE SPARK AS A PARALLEL PROCESSING FRAMEWORK FOR ACCESSING REST BASED\\r\\nDATA SERVICES\\r\\nToday’s world of data science leverages data from various sources. Commonly,\\r\\nthese sources are Hadoop File System, Enterprise Data Warehouse, Relational\\r\\nDatabase systems, Enterprise file systems, etc. The data from these sources are\\r\\naccessed in bulk using connectors specific to the underlying technology and\\r\\noptimized for accessing large volume of data.\\r\\n\\r\\nHowever, many a times, a data science exploration/modeling exercise also needs\\r\\nto access data from sources that support only API-based data access. These\\r\\nAPI-based data sources/data services can be of various types. For example:\\r\\n\\r\\n * Data services (external or internal), which can provide curated/enriched data\\r\\n   in record-by-record manner.\\r\\n * Validation services for verifying the data using an API. For example Address\\r\\n   validation.\\r\\n * Machine learning/AI services, which provide prediction, recommendations, and\\r\\n   insights based on a single input record.\\r\\n * Service from internal systems (like CRM, MDM, etc.) of the organization,\\r\\n   which supports data access through API only in record-by-record manner.\\r\\n * And many more …\\r\\n\\r\\nThese API-based data services are commonly implemented using REST architectural\\r\\nstyle ( https://en.wikipedia.org/wiki/Representational_state_transfer ) and are designed to be called for single item (or a limited set of items) per\\r\\nrequest. While this works well when the API needs to be called from an online\\r\\napplication, the approach breaks down in situations when the API has to be\\r\\ncalled in bulk. For example, during an online sign-up process an address\\r\\nvalidation API can be called for the particular address of the user. But, say in\\r\\na health care analytics application, where addresses of thousands of doctors,\\r\\nwhich already exist in a database or were obtained as part of a bulk load from\\r\\nan external source, have to be verified, this approach will not work. Because of\\r\\nthe “single item per request” design of the API, you’d have to call the API\\r\\nthousands of times.\\r\\n\\r\\nCalling data service APIs in sequence — Processing Time = (# of Records)*(API\\r\\nresponse time)\\r\\n--------------------------------------------------------------------------------\\r\\n\\r\\nThe above pseudo code snippet shows how calling a target REST API service is\\r\\nhandled in a sequential manner. You must first load the list of parameter values\\r\\nfrom a file or table in the memory. Next run a loop. In the loop, the target\\r\\nREST API has to be called for each set of parameter values. From the response\\r\\nreturned by each call the output must be extracted. The output is typically\\r\\npopulated in a complex object like JSON, XML, etc. Next, the necessary part of\\r\\nthe output has to be added to a result array or collection. For that, you must\\r\\nknow the schema of the result beforehand so that you can process the result\\r\\naccordingly. Finally, you can filter, exploring, aggregating data from the\\r\\nresult array or collection. For all of these steps, you have to use\\r\\nlanguage-specific complex code.\\r\\n\\r\\nAlternatively, you could use a programming language-specific library related to\\r\\nmulti-processing/multi-threading that can parallelize the call to the API.\\r\\nHowever, with that approach the parallelization achieved from a single machine\\r\\nwould be minuscule — limited to the number of cores of the machine. Consider, a\\r\\ncase where someone is trying to get personality insights from tweets or Facebook\\r\\ncomments using a Natural Language Processing service. The tweets and comments\\r\\ncan be in tens to hundreds of thousands. So, using a single machine could take a\\r\\nnumber of hours to get the result. Hence, the approach should be to use a\\r\\ndistributed processing framework to make the API calls parallelized using\\r\\nmultiple cores of multiple machines with the least coding effort. Though it is\\r\\npossible to get distributed computing libraries or frameworks to achieve the\\r\\nsame in some programming languages like Java, C++ etc., they require a\\r\\nreasonable amount of coding and setup to achieve the same result. Achieving this\\r\\nin popular data science languages, like R or Python is actually more difficult\\r\\nas they are originally designed to run in single threaded/single machine\\r\\nenvironment.\\r\\n\\r\\nHere enters distributed computing frameworks like Apache Spark ( https://spark.apache.org/ ). REST APIs are inherently conducive to parallelization as each call to the\\r\\nAPI is completely independent of any other call to the same API. This fact, in\\r\\nconjunction with the parallel computing capability of Spark, can be leveraged to\\r\\ncreate a solution that solves the problem by delegating the API call to Spark’s\\r\\nparallel workers. Under this approach, one can package a specification for how\\r\\nto call the API along with the input data, and pass that to Spark to divide the\\r\\neffort among its workers (and tasks). The output can be assembled in set-level\\r\\nabstractions supported by Spark (like dataframes or data sets ) and passed back to the calling program. This approach not only helps you turn a\\r\\nsequential execution into a parallel one with the least coding effort, but also\\r\\nmakes it much easier to analyze and transform the returned result with an easier\\r\\ndata abstraction model to work with.\\r\\n\\r\\nThe performance benefit you gets is tremendous in this approach. This turns a\\r\\nproblem that takes incremental time for computation (that increases linearly\\r\\nwith the number of records to process), to one that is much more efficient and\\r\\nscales linearly on a much lower slope — number of records to process divided by\\r\\nthe number of cores available to process them. Theoretically, one can make the\\r\\nprocess constant time by having enough cores to process ALL of the records at\\r\\nonce.\\r\\n\\r\\nTo enable the benefits of using Spark to call REST APIs, we are introducing a\\r\\ncustom data source for Spark, namely REST Data Source. It has been built by\\r\\nextending Spark’s Data Source API. This helps in delegating calls to the target\\r\\nREST API to a Spark level Task for each set of input parameter values/record.\\r\\nThis also enables the results from multiple API calls to be returned as one\\r\\nSpark Dataframe. The REST Data Source expects the input to be in the format of a\\r\\nSpark Temporary table. The results from the API calls are returned in a single\\r\\nDataframe of Rows including the input parameters in their corresponding column\\r\\nnames, as well as the output from the REST call in a structure matching that of\\r\\nthe target API’s response. You can check the schema of this Dataframe, and\\r\\naccess the result as necessary using Spark SQL.\\r\\n\\r\\nThe architecture of REST Data SourceThe above figure shows how REST Data Source works.\\r\\n\\r\\n 1. You first read different sets of parameter values (that have to be sent to\\r\\n    target REST API) from a file/table to a Spark Dataframe (say Input Data\\r\\n    Frame).\\r\\n 2. Then the Input Data Frame is passed to the REST Data Source.\\r\\n 3. The REST Data Source returns the results to another Dataframe, say Result\\r\\n    Data Frame.\\r\\n 4. Now you can use Spark SQL to explore, aggregate, and filter the result using\\r\\n    the Result Data Frame.\\r\\n\\r\\nREST Data Source internally calls the target REST API in parallel by executing\\r\\nmultiple tasks spawned by multiple worker processes running in different\\r\\nmachines. Each task is responsible for calling the target REST API Service for a\\r\\npart of the input (part of sets of parameter values).\\r\\n\\r\\nThe code snippet below demonstrates how to use REST Data Source in Python to get\\r\\nresults from Socrata Data Service (SODA API) for multiple sets of parameter\\r\\nvalues by calling the appropriate REST API in parallel.\\r\\n\\r\\nA sample code snippet showing use of REST Data Source to call REST API in\\r\\nparallelYou can configure the REST Data Source for different levels of parallelization.\\r\\nDepending on the volume of input sets of parameter values to be processed and\\r\\nthroughput supported by the target REST API server, you can pass the number of\\r\\npartitions to be used, and that can limit or extend the level of parallelization\\r\\nas needed. You can use this framework in all programming languages supported by\\r\\nSpark — Python, Scala, R, or Java — without any additional coding specific to\\r\\nthat programming language. Last, but not the least, you can also use this\\r\\nframework to ensure that the target API is called only once for a given set of\\r\\nparameter values. In this way you can avoid calling the target REST API multiple\\r\\ntimes for same set of parameter values. This is especially useful when you must\\r\\npay for the REST API being called or there is a limit per day for the same.\\r\\n\\r\\nSee \\r\\nhttps://github.com/sourav-mazumder/Data-Science-Extensions/tree/master/spark-datasource-rest for details of the REST Data Source. Also see this notebook \\r\\nhttps://dataplatform.ibm.com/analytics/notebooks/ae63f056-e267-443e-bfc0-b9331f51d68a/view?access_token=0ec63c6e031aa57d065a4e1c4b71733729db43b1490c331a44323cce28725b7d for an example of how to use the REST Data Source.\\r\\n\\r\\n * Big Data\\r\\n * Spark\\r\\n * Artificial Intelligence\\r\\n * Data Science\\r\\n * Rest Api\\r\\n\\r\\nOne clap, two clap, three clap, forty?By clapping more or less, you can signal to us which stories really stand out.\\r\\n\\r\\n9 Blocked Unblock Follow FollowingSOURAV MAZUMDER\\r\\nMedium member since Nov 2017 FollowIBM WATSON DATA PLATFORM\\r\\nBuild smarter applications and quickly visualize, share, and gain insights\\r\\n\\r\\n * 9\\r\\n * \\r\\n * \\r\\n * \\r\\n\\r\\nNever miss a story from IBM Watson Data Platform , when you sign up for Medium. Learn more Never miss a story from IBM Watson Data Platform Get updates Get updates   \n",
      "\n",
      "                                                                                                                                                                                              doc_description  \\\n",
      "399  Today’s world of data science leverages data from various sources. Commonly, these sources are Hadoop File System, Enterprise Data Warehouse, Relational Database systems, Enterprise file systems, etc…   \n",
      "761  Today’s world of data science leverages data from various sources. Commonly, these sources are Hadoop File System, Enterprise Data Warehouse, Relational Database systems, Enterprise file systems, etc…   \n",
      "\n",
      "                                                                                    doc_full_name  \\\n",
      "399  Using Apache Spark as a parallel processing framework for accessing REST based data services   \n",
      "761  Using Apache Spark as a parallel processing framework for accessing REST based data services   \n",
      "\n",
      "    doc_status  \n",
      "399       Live  \n",
      "761       Live  \n",
      "-------------\n",
      "577\n",
      "-------------\n",
      "     article_id  \\\n",
      "578         577   \n",
      "970         577   \n",
      "\n",
      "                                                                                                                                                                                                                                                                            doc_body  \\\n",
      "578  This video shows you how to construct queries to access the primary index through the API.Visit http://www.cloudant.com/sign-up to sign up for a free Cloudant account. Find more videos and tutorials in the Cloudant Learning Center: http://www.cloudant.com/learning-center   \n",
      "970                                                                                                          This video shows you how to construct queries to access the primary index through the API.Visit http://www.cloudant.com/sign-up to sign up for a free Cloudant account.   \n",
      "\n",
      "                                                                                       doc_description  \\\n",
      "578  This video shows you how to construct queries to access the primary index through Cloudant's API.   \n",
      "970          This video shows you how to construct queries to access the primary index through the API   \n",
      "\n",
      "             doc_full_name doc_status  \n",
      "578  Use the Primary Index       Live  \n",
      "970  Use the Primary Index       Live  \n"
     ]
    }
   ],
   "source": [
    "# find if the rows with multi ids are the same as with the multi values in the other columns\n",
    "pd.set_option('display.max_colwidth',None) # set the amount of text per column which is shown\n",
    "for ids in dict_multi_val['article_id']:\n",
    "    print('-------------')\n",
    "    print(ids)\n",
    "    print('-------------')\n",
    "    print(df_articles[df_articles['article_id']==ids])"
   ]
  },
  {
   "cell_type": "markdown",
   "id": "e965b82e",
   "metadata": {},
   "source": [
    "Here is my analysis of the multi ids:\n",
    "- id 50: not the same articles\n",
    "- id 221: duplicates\n",
    "- id 232: duplicates\n",
    "- id 398: duplicates\n",
    "- id 577: duplicates\n",
    "\n",
    "Also, it seems that the 'doc body' is the whole text of the articles. \n",
    "\n",
    "The 'doc_decription' is a short abstract, and the 'doc_full_name' is the name of the article.\n",
    "\n",
    "The column doc_status tells me if the article is still online."
   ]
  },
  {
   "cell_type": "markdown",
   "id": "b815712e",
   "metadata": {},
   "source": [
    "The duplicates can be deleted. The reason therefore is that this can cause problems with the matrix factorization. For example, if the same user interact or rate the same article differently, then the latent vectors can be optimized in a wrong direction."
   ]
  },
  {
   "cell_type": "markdown",
   "id": "f0c5b5cb",
   "metadata": {},
   "source": [
    "One of the articles with the id 50 needs another id. I give one of them the id 1057."
   ]
  },
  {
   "cell_type": "code",
   "execution_count": 12,
   "id": "50710525",
   "metadata": {
    "scrolled": true
   },
   "outputs": [
    {
     "data": {
      "text/html": [
       "<div>\n",
       "<style scoped>\n",
       "    .dataframe tbody tr th:only-of-type {\n",
       "        vertical-align: middle;\n",
       "    }\n",
       "\n",
       "    .dataframe tbody tr th {\n",
       "        vertical-align: top;\n",
       "    }\n",
       "\n",
       "    .dataframe thead th {\n",
       "        text-align: right;\n",
       "    }\n",
       "</style>\n",
       "<table border=\"1\" class=\"dataframe\">\n",
       "  <thead>\n",
       "    <tr style=\"text-align: right;\">\n",
       "      <th></th>\n",
       "      <th>article_id</th>\n",
       "      <th>doc_body</th>\n",
       "      <th>doc_description</th>\n",
       "      <th>doc_full_name</th>\n",
       "      <th>doc_status</th>\n",
       "    </tr>\n",
       "  </thead>\n",
       "  <tbody>\n",
       "  </tbody>\n",
       "</table>\n",
       "</div>"
      ],
      "text/plain": [
       "Empty DataFrame\n",
       "Columns: [article_id, doc_body, doc_description, doc_full_name, doc_status]\n",
       "Index: []"
      ]
     },
     "execution_count": 12,
     "metadata": {},
     "output_type": "execute_result"
    }
   ],
   "source": [
    "# show that the id number is not occupied \n",
    "df_articles.loc[df_articles['article_id'] == 1057]"
   ]
  },
  {
   "cell_type": "code",
   "execution_count": 13,
   "id": "ea08c4b3",
   "metadata": {},
   "outputs": [
    {
     "data": {
      "text/plain": [
       "Int64Index([50, 365], dtype='int64')"
      ]
     },
     "execution_count": 13,
     "metadata": {},
     "output_type": "execute_result"
    }
   ],
   "source": [
    "# find the index for changing the id\n",
    "df_articles[df_articles['article_id'] == 50].index"
   ]
  },
  {
   "cell_type": "code",
   "execution_count": 14,
   "id": "9dfc4b19",
   "metadata": {},
   "outputs": [],
   "source": [
    "# change the article id\n",
    "df_articles['article_id'].loc[365] = 1057"
   ]
  },
  {
   "cell_type": "code",
   "execution_count": 15,
   "id": "37da2a5d",
   "metadata": {},
   "outputs": [],
   "source": [
    "# delete all rows with duplicates in 'article_id'\n",
    "df_articles = df_articles.drop_duplicates(subset='article_id', keep='first')"
   ]
  },
  {
   "cell_type": "code",
   "execution_count": 16,
   "id": "8c17e596",
   "metadata": {},
   "outputs": [
    {
     "data": {
      "text/plain": [
       "{'article_id': {},\n",
       " 'doc_body': {'Working Vis * \\r\\n * \\r\\n\\r\\n * Home\\r\\n * About This Blog\\r\\n * Brunel': 4,\n",
       "  '* Select a country/region: United States\\r\\n\\r\\nIBM� * Site map\\r\\n\\r\\nSearch\\r\\n\\r\\n * Related materials Download\\r\\n\\r\\n * NO RELATED MATERIALS FOUND\\r\\n   \\r\\n\\r\\n * \\r\\n * \\r\\n * \\r\\n * \\r\\n * \\r\\n\\r\\n * LinkedIn\\r\\n * Google+\\r\\n * Twitter\\r\\n * Facebook\\r\\n\\r\\n * \\r\\n\\r\\n * Related materials\\r\\n\\r\\n * NO RELATED MATERIALS FOUND\\r\\n   \\r\\n\\r\\n * Download\\r\\n\\r\\n * \\r\\n * \\r\\n * \\r\\n * \\r\\n\\r\\n * \\r\\n\\r\\n * Download\\r\\n\\r\\n\\r\\nCONTACT IBM\\r\\nCONSIDERING A PURCHASE?\\r\\n * Email IBM\\r\\n\\r\\nFOOTER LINKS\\r\\n * Contact\\r\\n * Privacy\\r\\n * Terms of use\\r\\n * Accessibility': 2,\n",
       "  'Cheat sheet': 2,\n",
       "  'Need to report the video?\\r\\n\\r\\nSign in to report inappropriate content.\\r\\n\\r\\nSign in\\r\\n\\r\\nWant to watch this again later?\\r\\n\\r\\nSign in to add this video to a playlist.\\r\\n\\r\\nSign in\\r\\n\\r\\nSign in to make your opinion count.\\r\\n\\r\\nSign in to make your opinion count.': 2},\n",
       " 'doc_description': {'Here’s this week’s news in Data Science and Big Data.': 10,\n",
       "  'Here’s this week’s news in Data Science and Big Data. ': 16,\n",
       "  'How to use the Spark machine learning programming model in IBM Analytics for Apache Spark on IBM Bluemix': 2,\n",
       "  'Interesting data science links from around the web.': 2,\n",
       "  'Every two weeks, we find the most interesting data science links from around the web and collect them in Data Science Briefings, the DataMiningApps newsletter.': 2,\n",
       "  'In my last blog “Business differentiation through Machine Learning” I introduced and described the concepts of machine learning. We traced its origins from a computer science project to Watson show…': 2,\n",
       "  'How to build SQL Queries in a Scala notebook using IBM Analytics for Apache Spark': 2},\n",
       " 'doc_full_name': {'Graph-based machine learning': 2},\n",
       " 'doc_status': {}}"
      ]
     },
     "execution_count": 16,
     "metadata": {},
     "output_type": "execute_result"
    }
   ],
   "source": [
    "# find all values in the categorical columns, which appears more the once\n",
    "# count the number of them\n",
    "# do it again to see if some other count numbers have changed\n",
    "dict_multi_val = {}\n",
    "for column in list(df_articles.columns):\n",
    "    dict_multi_val[column] = {}\n",
    "    if len(df_articles[column].unique()) > 1 and len(df_articles[column].unique()) < df_articles.shape[0]:\n",
    "        for unique_value in df_articles[column].unique():\n",
    "            if len(df_articles[df_articles[column]==unique_value].index) > 1:\n",
    "                dict_multi_val[column][unique_value] = len(df_articles[df_articles[column]==unique_value].index) \n",
    "\n",
    "dict_multi_val"
   ]
  },
  {
   "cell_type": "markdown",
   "id": "985bc050",
   "metadata": {},
   "source": [
    "Some of the multi values disappear."
   ]
  },
  {
   "cell_type": "markdown",
   "id": "e9c37d42",
   "metadata": {},
   "source": [
    "This means that at least all multi values of the column 'doc_body' can be deleted."
   ]
  },
  {
   "cell_type": "code",
   "execution_count": 17,
   "id": "21270727",
   "metadata": {},
   "outputs": [],
   "source": [
    "# delete all duplicates in the column 'doc_body'\n",
    "df_articles = df_articles.drop_duplicates(subset='doc_body')"
   ]
  },
  {
   "cell_type": "code",
   "execution_count": 18,
   "id": "eb10b3f0",
   "metadata": {},
   "outputs": [
    {
     "data": {
      "text/plain": [
       "{'article_id': {},\n",
       " 'doc_body': {},\n",
       " 'doc_description': {'Here’s this week’s news in Data Science and Big Data.': 10,\n",
       "  'Here’s this week’s news in Data Science and Big Data. ': 16,\n",
       "  'How to use the Spark machine learning programming model in IBM Analytics for Apache Spark on IBM Bluemix': 2,\n",
       "  'Interesting data science links from around the web.': 2,\n",
       "  'Every two weeks, we find the most interesting data science links from around the web and collect them in Data Science Briefings, the DataMiningApps newsletter.': 2,\n",
       "  'In my last blog “Business differentiation through Machine Learning” I introduced and described the concepts of machine learning. We traced its origins from a computer science project to Watson show…': 2,\n",
       "  'How to build SQL Queries in a Scala notebook using IBM Analytics for Apache Spark': 2},\n",
       " 'doc_full_name': {'Graph-based machine learning': 2},\n",
       " 'doc_status': {}}"
      ]
     },
     "execution_count": 18,
     "metadata": {},
     "output_type": "execute_result"
    }
   ],
   "source": [
    "# find all values in the categorical columns, which appears more the once\n",
    "# count the number of them\n",
    "# do it again to see if some other count numbers have changed\n",
    "dict_multi_val = {}\n",
    "for column in list(df_articles.columns):\n",
    "    dict_multi_val[column] = {}\n",
    "    if len(df_articles[column].unique()) > 1 and len(df_articles[column].unique()) < df_articles.shape[0]:\n",
    "        for unique_value in df_articles[column].unique():\n",
    "            if len(df_articles[df_articles[column]==unique_value].index) > 1:\n",
    "                dict_multi_val[column][unique_value] = len(df_articles[df_articles[column]==unique_value].index) \n",
    "\n",
    "dict_multi_val"
   ]
  },
  {
   "cell_type": "markdown",
   "id": "d8552841",
   "metadata": {},
   "source": [
    "The last multi values in the columns aren´t clear duplicates. That´s why I will not delete them."
   ]
  },
  {
   "cell_type": "code",
   "execution_count": 19,
   "id": "b14a9794",
   "metadata": {},
   "outputs": [
    {
     "name": "stdout",
     "output_type": "stream",
     "text": [
      "The delta for the column article_id to the number of rows in the Dataframe is 0\n",
      "The delta for the column doc_body to the number of rows in the Dataframe is 0\n",
      "The delta for the column doc_description to the number of rows in the Dataframe is 2\n",
      "The delta for the column doc_full_name to the number of rows in the Dataframe is 0\n"
     ]
    }
   ],
   "source": [
    "# find out if the values, which appears several times, fill the gap between the number of \n",
    "# unique values and the total amount of rows\n",
    "for key_outer in dict_multi_val:\n",
    "    if key_outer != 'doc_status':\n",
    "        sum_multi = 0\n",
    "        count_values = 0\n",
    "        for key_inner in dict_multi_val[key_outer]:\n",
    "            sum_multi += dict_multi_val[key_outer][key_inner]\n",
    "            count_values += 1\n",
    "    \n",
    "        delta = df_articles.shape[0] - (len(df_articles[key_outer].unique()) + sum_multi - count_values)\n",
    "        print('The delta for the column {} to the number of rows in the Dataframe is {}'.format(key_outer, delta))"
   ]
  },
  {
   "cell_type": "markdown",
   "id": "66fc1ba4",
   "metadata": {},
   "source": [
    "It is clear that the columns 'doc_description' has some values which don't appear.\n",
    "May they are NaN values?"
   ]
  },
  {
   "cell_type": "code",
   "execution_count": 20,
   "id": "635c6ba3",
   "metadata": {},
   "outputs": [
    {
     "data": {
      "text/plain": [
       "[0, 1, 3, 0, 0]"
      ]
     },
     "execution_count": 20,
     "metadata": {},
     "output_type": "execute_result"
    }
   ],
   "source": [
    "# show the NaN numbers\n",
    "nan_number = []\n",
    "list_columns = list(df_articles.columns)\n",
    "for column in list_columns:\n",
    "    nan = df_articles[column].isna().sum()\n",
    "    nan_number.append(nan)\n",
    "    \n",
    "nan_number"
   ]
  },
  {
   "cell_type": "markdown",
   "id": "06738756",
   "metadata": {},
   "source": [
    "My assumption was right. The last values are NaN values.\n",
    "The next step is to show the rows of these values to understand why there is no value."
   ]
  },
  {
   "cell_type": "code",
   "execution_count": 21,
   "id": "06684fbe",
   "metadata": {},
   "outputs": [
    {
     "name": "stdout",
     "output_type": "stream",
     "text": [
      "-------------\n",
      "doc_body\n",
      "-------------\n",
      "     article_id doc_body  \\\n",
      "206         206      NaN   \n",
      "\n",
      "                                                                                                                                                             doc_description  \\\n",
      "206  Watch how to convert XML data to CSV format to load into dashDB. This video shows a tool called Convert XML to CSV found here: http://www.convertcsv.com/xml-to-csv.htm   \n",
      "\n",
      "                 doc_full_name doc_status  \n",
      "206  Load XML data into dashDB       Live  \n",
      "-------------\n",
      "doc_description\n",
      "-------------\n",
      "     article_id  \\\n",
      "354         354   \n",
      "768         765   \n",
      "919         916   \n",
      "\n",
      "                                                                                                                                                                                                                                                                                                                                                                                                                                                                                                                                                                                                                                                                                                                                                                                                                                                                                                                                                                                                                                                                                                                                                                                                                                                                                                                                                                                                                                                                                                                                                                                                                                                                                                                                                                                                                                                                                                                                                                                                                                                                                                                                                                                                                                                                                                                                                                                                                                                                                                                                                                                                                                                                                                                                                                                                                                                                                                                                                                                                                                                                                                                                                                                                                                                                                                                                                                                                                                                                                                                                                                                                                                                                                                                                                                                                                                                                                                                                                     doc_body  \\\n",
      "354                                                                                                                                                                                                                                                                                                                                                                                                                                                                                                                                                                                                                                                                                                                                                                                                                                                                                                                                                                                                                                                                                                                                                                                                                                                                                                                                                                                                                                                                                                                                                                                                                                                                                                                                                                                                                                                                                                                                                                                                                                                                                                                                                                                                                                                                                                                                                                                                                                                                                                                                                                                                                                                                                                                                                                                                                                                                                                                                                                                                                                                                                                                                                                                                                                                                                                                                                                                                                                                                                                                                                                                                                                                                                                                      The search index lets you create flexible queries on one or more field in the documents. This video shows you how to build a search index. Find more videos in the Cloudant Learning Center: http://www.cloudant.com/learning-center   \n",
      "768  Compose The Compose logo Articles Sign in Free 30-day trialANNOUNCING THE DATA BROWSER FOR JANUSGRAPH\\r\\nPublished Aug 30, 2017 Announcing the Data Browser for JanusGraph janusgraph graph visualization Free 30 Day TrialIt's now even easier to query and visualize a JanusGraph graph with the\\r\\nintegrated Data Browser for JanusGraph.\\r\\n\\r\\nSince we introduced Compose for JanusGraph as a beta experience, the engineering\\r\\nteam have been working on making the command line and programmatic experience\\r\\nthe best and most reliable environment that you can traverse your JanusGraph\\r\\ndatabase in. Now the time has come to expand that experience to the Compose web\\r\\nconsole complete with graph visualization; say hello to the Data Browser for JanusGraph .\\r\\n\\r\\nYou'll find it under the Browser tab in the Compose console on a JanusGraph\\r\\ndeployment and click through to open up a new window with the browser. Although\\r\\nit looks simple, there's a lot of power in this user interface. At the top, you\\r\\ncan edit your Gremlin query, click the arrow or press shift enter and the query\\r\\nwill be executed immediately.\\r\\n\\r\\n\\r\\n\\r\\nThe power comes in how the results are handled. Each set of query results\\r\\ngenerates a \"Query Response Card\" that is placed on the top of a stack of\\r\\nprevious queries. Each card is a combined view of the JSON results and, if\\r\\npossible to create, a graph visualization of those results.\\r\\n\\r\\nThe displayed graph will join vertices and edges together while letting you\\r\\nre-layout the graph. Clicking on vertices in the graph will automatically focus\\r\\nthe JSON view of the results on the results that created that node. The JSON\\r\\nview can also be filtered down to labels, types or properties, depending on how\\r\\nmuch information you need to explore with.\\r\\n\\r\\nWhen you are done browsing the card, just go type your new query into the editor\\r\\nup top, or if you want to refine a cards query, click the copy icon to push its\\r\\ncreation query into the editor. Old cards can be left open or folded up as you\\r\\nwork your way around your graph's topologies.\\r\\n\\r\\nYou can read more about the browser in the Compose help or just dive in on your Compose for JanusGraph deployment today.\\r\\n\\r\\n\\r\\n--------------------------------------------------------------------------------\\r\\n\\r\\nIf you have any feedback about this or any other Compose article, drop the\\r\\nCompose Articles team a line at articles@compose.com . We're happy to hear from you.\\r\\n\\r\\nattribution Ricardo Gomez Angel\\r\\n\\r\\nDj Walker-Morgan is Compose's resident Content Curator, and has been both a developer and writer\\r\\nsince Apples came in II flavors and Commodores had Pets. Love this article? Head\\r\\nover to Dj Walker-Morgan ’s author page to keep reading.CONQUER THE DATA LAYER\\r\\nSpend your time developing apps, not managing databases.\\r\\n\\r\\nTry Compose for Free for 30 DaysRELATED ARTICLES\\r\\nAug 17, 2017GRAPH 101: MAGICAL MARKOV CHAINS\\r\\nGraph 101 is an article series on graph databases that explores graph algorithms\\r\\nfrom the ground up. If you’ve ever wondered…\\r\\n\\r\\nJohn O'Connor Jun 26, 2017WEBINAR: GREMLIN TRAVERSALS FOR THE SQL USER\\r\\nGraph databases are the fastest growing database engine. Their power and\\r\\npopularity stem from how they store their data - wi…\\r\\n\\r\\nJon Silvers Jun 15, 2017COMPOSE'S FIRST GRAPH DATABASE: JANUSGRAPH\\r\\nAt Compose we've always looked to ensure you can get the databases you need.\\r\\nToday, we are proud to announce that JanusGraph…\\r\\n\\r\\nJosh Mintz Products Databases Pricing Add-Ons Datacenters Enterprise Learn Why Compose Articles Write Stuff Customer Stories Webinars Company About Privacy Policy Terms of Service Support Support Contact Us Documentation System Status Security © 2017 Compose, an IBM Company   \n",
      "919                                                                                                                                                                                                                                                                                                                                                                                                                                                                                                                                                                                                                                                                                                                                                                                                                                                                                                                                                                                                                                                                                                                                                                                                                                                                                                                                                                                                                                                                                                                                                                                                                                                                                                                                                                                                                                                                                                                                                                                                                                                                                                                                                                                                                                                                                                                                                                                                                                                                                                                                                                                                                                                                                                                                                                                                                                                                                                                                                                                                                                                                                                                                                                                                                                                                                                                                                                                                                                                                                                                                                                                                                                                                                Cloudant Query is a powerful declarative JSON query syntax for querying Cloudant databases. This video shows you how to build and query data using Cloudant Query. Find more videos and tutorials in the Cloudant Learning Center: http://www.cloudant.com/learning-center   \n",
      "\n",
      "    doc_description                               doc_full_name doc_status  \n",
      "354             NaN          Build the search index in Cloudant       Live  \n",
      "768             NaN  Announcing the Data Browser for JanusGraph       Live  \n",
      "919             NaN                  Use the new Cloudant query       Live  \n"
     ]
    }
   ],
   "source": [
    "# show the rows where a NaN values appears\n",
    "for column in list(df_articles.columns):\n",
    "    if df_articles[column].isna().sum() > 0:\n",
    "        print('-------------')\n",
    "        print(column)\n",
    "        print('-------------')\n",
    "        print(df_articles[df_articles[column].isna()])\n",
    "        "
   ]
  },
  {
   "cell_type": "markdown",
   "id": "97d2b328",
   "metadata": {},
   "source": [
    "The NaN value in column 'doc_body' can be deleted, because an article without any content is not read. \n",
    "It can be that this is an error in the csv file and this articles is existing. Because this is just one row, I will delete it.\n",
    "\n",
    "The other NaN values can stay, because, that this articles just don't have a description. I will change the NaN values with an empty string."
   ]
  },
  {
   "cell_type": "code",
   "execution_count": 22,
   "id": "9d9ec881",
   "metadata": {},
   "outputs": [],
   "source": [
    "# delete nan rows of the column 'doc_body'\n",
    "df_articles = df_articles.dropna(subset=['doc_body'])"
   ]
  },
  {
   "cell_type": "code",
   "execution_count": 23,
   "id": "805a15b8",
   "metadata": {},
   "outputs": [],
   "source": [
    "# change the nan values of 'doc_description' to empty strings\n",
    "df_articles.loc[354, 'doc_description'] = ''\n",
    "df_articles.loc[768, 'doc_description'] = ''\n",
    "df_articles.loc[919, 'doc_description'] = ''"
   ]
  },
  {
   "cell_type": "markdown",
   "id": "2b7f7f3b",
   "metadata": {},
   "source": [
    "### 1.2 User-Item Interactions Data"
   ]
  },
  {
   "cell_type": "code",
   "execution_count": 24,
   "id": "117a3f4b",
   "metadata": {},
   "outputs": [],
   "source": [
    "# load csv\n",
    "df_interaction = pd.read_csv('user-item-interactions.csv')"
   ]
  },
  {
   "cell_type": "code",
   "execution_count": 25,
   "id": "cb402f98",
   "metadata": {},
   "outputs": [
    {
     "data": {
      "text/html": [
       "<div>\n",
       "<style scoped>\n",
       "    .dataframe tbody tr th:only-of-type {\n",
       "        vertical-align: middle;\n",
       "    }\n",
       "\n",
       "    .dataframe tbody tr th {\n",
       "        vertical-align: top;\n",
       "    }\n",
       "\n",
       "    .dataframe thead th {\n",
       "        text-align: right;\n",
       "    }\n",
       "</style>\n",
       "<table border=\"1\" class=\"dataframe\">\n",
       "  <thead>\n",
       "    <tr style=\"text-align: right;\">\n",
       "      <th></th>\n",
       "      <th>Unnamed: 0</th>\n",
       "      <th>article_id</th>\n",
       "      <th>title</th>\n",
       "      <th>email</th>\n",
       "    </tr>\n",
       "  </thead>\n",
       "  <tbody>\n",
       "    <tr>\n",
       "      <th>0</th>\n",
       "      <td>0</td>\n",
       "      <td>1430.0</td>\n",
       "      <td>using pixiedust for fast, flexible, and easier data analysis and experimentation</td>\n",
       "      <td>ef5f11f77ba020cd36e1105a00ab868bbdbf7fe7</td>\n",
       "    </tr>\n",
       "    <tr>\n",
       "      <th>1</th>\n",
       "      <td>1</td>\n",
       "      <td>1314.0</td>\n",
       "      <td>healthcare python streaming application demo</td>\n",
       "      <td>083cbdfa93c8444beaa4c5f5e0f5f9198e4f9e0b</td>\n",
       "    </tr>\n",
       "    <tr>\n",
       "      <th>2</th>\n",
       "      <td>2</td>\n",
       "      <td>1429.0</td>\n",
       "      <td>use deep learning for image classification</td>\n",
       "      <td>b96a4f2e92d8572034b1e9b28f9ac673765cd074</td>\n",
       "    </tr>\n",
       "    <tr>\n",
       "      <th>3</th>\n",
       "      <td>3</td>\n",
       "      <td>1338.0</td>\n",
       "      <td>ml optimization using cognitive assistant</td>\n",
       "      <td>06485706b34a5c9bf2a0ecdac41daf7e7654ceb7</td>\n",
       "    </tr>\n",
       "    <tr>\n",
       "      <th>4</th>\n",
       "      <td>4</td>\n",
       "      <td>1276.0</td>\n",
       "      <td>deploy your python model as a restful api</td>\n",
       "      <td>f01220c46fc92c6e6b161b1849de11faacd7ccb2</td>\n",
       "    </tr>\n",
       "  </tbody>\n",
       "</table>\n",
       "</div>"
      ],
      "text/plain": [
       "   Unnamed: 0  article_id  \\\n",
       "0           0      1430.0   \n",
       "1           1      1314.0   \n",
       "2           2      1429.0   \n",
       "3           3      1338.0   \n",
       "4           4      1276.0   \n",
       "\n",
       "                                                                              title  \\\n",
       "0  using pixiedust for fast, flexible, and easier data analysis and experimentation   \n",
       "1                                      healthcare python streaming application demo   \n",
       "2                                        use deep learning for image classification   \n",
       "3                                         ml optimization using cognitive assistant   \n",
       "4                                         deploy your python model as a restful api   \n",
       "\n",
       "                                      email  \n",
       "0  ef5f11f77ba020cd36e1105a00ab868bbdbf7fe7  \n",
       "1  083cbdfa93c8444beaa4c5f5e0f5f9198e4f9e0b  \n",
       "2  b96a4f2e92d8572034b1e9b28f9ac673765cd074  \n",
       "3  06485706b34a5c9bf2a0ecdac41daf7e7654ceb7  \n",
       "4  f01220c46fc92c6e6b161b1849de11faacd7ccb2  "
      ]
     },
     "execution_count": 25,
     "metadata": {},
     "output_type": "execute_result"
    }
   ],
   "source": [
    "# view first 5 rows\n",
    "df_interaction.head()"
   ]
  },
  {
   "cell_type": "markdown",
   "id": "3f4d19f2",
   "metadata": {},
   "source": [
    "Here are my observations:\n",
    "- 'Unnamed: 0': some kind of index => Can be deleted\n",
    "- 'article_id': the article id like in the previous csv => Seems to be a float\n",
    "- 'title': probably the title of the article\n",
    "- 'email': anonymized email of a use which probably read or clicked on the article"
   ]
  },
  {
   "cell_type": "code",
   "execution_count": 26,
   "id": "83a7230b",
   "metadata": {},
   "outputs": [],
   "source": [
    "# delete 'Unnamed: 0'\n",
    "df_interaction = df_interaction.drop('Unnamed: 0', axis=1)"
   ]
  },
  {
   "cell_type": "code",
   "execution_count": 27,
   "id": "a57486a1",
   "metadata": {},
   "outputs": [
    {
     "data": {
      "text/plain": [
       "article_id    float64\n",
       "title          object\n",
       "email          object\n",
       "dtype: object"
      ]
     },
     "execution_count": 27,
     "metadata": {},
     "output_type": "execute_result"
    }
   ],
   "source": [
    "# show column types\n",
    "df_interaction.dtypes"
   ]
  },
  {
   "cell_type": "markdown",
   "id": "0fdab341",
   "metadata": {},
   "source": [
    "Let´s look at the article data at first."
   ]
  },
  {
   "cell_type": "code",
   "execution_count": 28,
   "id": "09a5d980",
   "metadata": {},
   "outputs": [],
   "source": [
    "# convert 'article_id' in integer\n",
    "df_interaction['article_id'] = df_interaction['article_id'].astype('int')"
   ]
  },
  {
   "cell_type": "code",
   "execution_count": 29,
   "id": "f8c1a1af",
   "metadata": {},
   "outputs": [
    {
     "data": {
      "text/plain": [
       "45993"
      ]
     },
     "execution_count": 29,
     "metadata": {},
     "output_type": "execute_result"
    }
   ],
   "source": [
    "# show the number of rows\n",
    "df_interaction.shape[0]"
   ]
  },
  {
   "cell_type": "code",
   "execution_count": 30,
   "id": "1376afd7",
   "metadata": {},
   "outputs": [
    {
     "name": "stdout",
     "output_type": "stream",
     "text": [
      "article_id\n",
      "714\n",
      "title\n",
      "714\n",
      "email\n",
      "5149\n"
     ]
    }
   ],
   "source": [
    "# number of unique values of the categorical columns\n",
    "for column in list(df_interaction.columns):\n",
    "    print(column)\n",
    "    print(len(df_interaction[column].unique()))"
   ]
  },
  {
   "cell_type": "code",
   "execution_count": 31,
   "id": "b25bfa3a",
   "metadata": {},
   "outputs": [],
   "source": [
    "# find all unique values in the categorical columns and count the frequency of them \n",
    "dict_multi_val = {}\n",
    "for column in list(df_interaction.columns):\n",
    "    dict_multi_val[column] = {}\n",
    "    if len(df_interaction[column].unique()) > 1 and len(df_interaction[column].unique()) < df_interaction.shape[0]:\n",
    "        for unique_value in df_interaction[column].unique():\n",
    "            if len(df_interaction[df_interaction[column]==unique_value].index) > 0:\n",
    "                dict_multi_val[column][unique_value] = len(df_interaction[df_interaction[column]==unique_value].index)      "
   ]
  },
  {
   "cell_type": "code",
   "execution_count": 32,
   "id": "6de21fd0",
   "metadata": {},
   "outputs": [],
   "source": [
    "# get the key/value variables\n",
    "labels = list(dict_multi_val['article_id'].keys())\n",
    "values = list(dict_multi_val['article_id'].values())"
   ]
  },
  {
   "cell_type": "code",
   "execution_count": 33,
   "id": "4c5d6125",
   "metadata": {},
   "outputs": [
    {
     "data": {
      "image/png": "[encoded data removed]",
      "text/plain": [
       "<Figure size 2500x1500 with 1 Axes>"
      ]
     },
     "metadata": {},
     "output_type": "display_data"
    }
   ],
   "source": [
    "# visual how often each article is clicked\n",
    "plt.figure(figsize=(25, 15))\n",
    "plt.bar(labels, values)\n",
    "plt.yticks(list(range(0, 1001, 50)))\n",
    "plt.xlabel('Aricle Id`s')\n",
    "plt.ylabel('Views')\n",
    "plt.title('How often each article is clicked')\n",
    "plt.grid(True)\n",
    "plt.xticks(rotation=90)\n",
    "plt.show()"
   ]
  },
  {
   "cell_type": "markdown",
   "id": "fcc7ff08",
   "metadata": {},
   "source": [
    "There are some very popular articles with more to 600 views. Most articles are in the area between 50 and 500.\n",
    "Let's describe this with numbers."
   ]
  },
  {
   "cell_type": "code",
   "execution_count": 34,
   "id": "ffce972e",
   "metadata": {},
   "outputs": [
    {
     "name": "stdout",
     "output_type": "stream",
     "text": [
      "Mean:  64.41596638655462\n",
      "Median:  25.0\n",
      "Standard deviation:  109.17592284477693\n"
     ]
    }
   ],
   "source": [
    "# some statistical values for views\n",
    "print(\"Mean: \", statistics.mean(values))\n",
    "print(\"Median: \", statistics.median(values))\n",
    "print(\"Standard deviation: \", statistics.stdev(values))"
   ]
  },
  {
   "cell_type": "code",
   "execution_count": 35,
   "id": "d72755c1",
   "metadata": {},
   "outputs": [
    {
     "data": {
      "image/png": "[encoded data removed]",
      "text/plain": [
       "<Figure size 2000x1000 with 1 Axes>"
      ]
     },
     "metadata": {},
     "output_type": "display_data"
    }
   ],
   "source": [
    "# show histogram of articles\n",
    "\n",
    "# define the plt size\n",
    "plt.figure(figsize=(20, 10))\n",
    "\n",
    "# x label\n",
    "plt.xlabel('Viewing Frequency Of Articles')\n",
    "\n",
    "# y label\n",
    "plt.ylabel('Frequency')\n",
    "\n",
    "# titel\n",
    "plt.title('Histogram: Viewing Frequency Of Articles')\n",
    "\n",
    "# change the segmentation\n",
    "plt.xticks(list(range(0, 901, 25)))\n",
    "\n",
    "# Create histogram\n",
    "plt.hist(values, bins=20)\n",
    "\n",
    "# Get histogram counts and bins\n",
    "counts, bins = np.histogram(values, bins=20)\n",
    "\n",
    "# Compute bin widths and centers\n",
    "widths = bins[1:] - bins[:-1]\n",
    "centers = (bins[1:] + bins[:-1]) / 2\n",
    "\n",
    "# Compute percentages\n",
    "percents = counts / len(values) * 100\n",
    "\n",
    "# Add percentages to the histogram\n",
    "for i, percent in enumerate(percents):\n",
    "    plt.text(centers[i], counts[i], f\"{percent:.1f}%\", ha='center', va='bottom')\n",
    "    \n",
    "# show grid\n",
    "plt.grid(True)\n",
    "\n",
    "# Show plot\n",
    "plt.show()"
   ]
  },
  {
   "cell_type": "markdown",
   "id": "f6efd06f",
   "metadata": {},
   "source": [
    "About 80% of articles were viewed 80 times of the users. Just about 5% of the articles are viewed more to 300 times."
   ]
  },
  {
   "cell_type": "markdown",
   "id": "adeae0ca",
   "metadata": {},
   "source": [
    "How about the videos with no views?"
   ]
  },
  {
   "cell_type": "code",
   "execution_count": 36,
   "id": "b925a752",
   "metadata": {},
   "outputs": [],
   "source": [
    "# Show the numbers of articles with no views\n",
    "dict_min_val = {}\n",
    "for column in list(df_interaction.columns):\n",
    "    dict_min_val[column] = {}\n",
    "    if len(df_interaction[column].unique()) > 0 and len(df_interaction[column].unique()) < df_interaction.shape[0]:\n",
    "        for unique_value in df_interaction[column].unique():\n",
    "            if len(df_interaction[df_interaction[column]==unique_value].index) == 0:\n",
    "                dict_min_val[column][unique_value] = len(df_interaction[df_interaction[column]==unique_value].index)      "
   ]
  },
  {
   "cell_type": "code",
   "execution_count": 37,
   "id": "82e41381",
   "metadata": {
    "scrolled": true
   },
   "outputs": [
    {
     "name": "stdout",
     "output_type": "stream",
     "text": [
      "{}\n",
      "\n",
      "The number of articles with no interaction are 0.\n"
     ]
    }
   ],
   "source": [
    "# show articles with no interactions\n",
    "print(dict_min_val['article_id'])\n",
    "print('')\n",
    "print('The number of articles with no interaction are {}.'.format(len(dict_min_val['article_id'])))"
   ]
  },
  {
   "cell_type": "markdown",
   "id": "4bdf0b2a",
   "metadata": {},
   "source": [
    "There are no article that hasn't been viewed at all."
   ]
  },
  {
   "cell_type": "markdown",
   "id": "5413fbf0",
   "metadata": {},
   "source": [
    "Now I do the same for the users to check how they interact with the articles."
   ]
  },
  {
   "cell_type": "code",
   "execution_count": 38,
   "id": "2aa0115f",
   "metadata": {},
   "outputs": [
    {
     "data": {
      "text/plain": [
       "Counter({0: 1})"
      ]
     },
     "execution_count": 38,
     "metadata": {},
     "output_type": "execute_result"
    }
   ],
   "source": [
    "# check how many users have just one or no interaction with the articles\n",
    "counted_min = Counter(list(dict_min_val['email'].values()))\n",
    "counted_min"
   ]
  },
  {
   "cell_type": "markdown",
   "id": "9ccf2408",
   "metadata": {},
   "source": [
    "There are is just one user with no interaction."
   ]
  },
  {
   "cell_type": "code",
   "execution_count": 39,
   "id": "9eb40fae",
   "metadata": {},
   "outputs": [
    {
     "data": {
      "image/png": "[encoded data removed]",
      "text/plain": [
       "<Figure size 2000x1000 with 1 Axes>"
      ]
     },
     "metadata": {},
     "output_type": "display_data"
    }
   ],
   "source": [
    "# visual a histogram with the user-article interaction\n",
    "\n",
    "# define the plt size\n",
    "plt.figure(figsize=(20, 10))\n",
    "\n",
    "# x label\n",
    "plt.xlabel('Frequency Of User Interactions')\n",
    "\n",
    "# y label\n",
    "plt.ylabel('Frequency')\n",
    "\n",
    "# titel\n",
    "plt.title('Histogram: Frequency Of User Interaction With Articles')\n",
    "\n",
    "# change the segmentation\n",
    "plt.xticks(list(range(0, 400, 10)))\n",
    "\n",
    "# Create histogram\n",
    "plt.hist(list(dict_multi_val['email'].values()), bins=20)\n",
    "\n",
    "# Get histogram counts and bins\n",
    "counts, bins = np.histogram(list(dict_multi_val['email'].values()), bins=20)\n",
    "\n",
    "# Compute bin widths and centers\n",
    "widths = bins[1:] - bins[:-1]\n",
    "centers = (bins[1:] + bins[:-1]) / 2\n",
    "\n",
    "# Compute percentages\n",
    "percents = counts / len(list(dict_multi_val['email'].values())) * 100\n",
    "\n",
    "# Add percentages to the histogram\n",
    "for i, percent in enumerate(percents):\n",
    "    plt.text(centers[i], counts[i], f\"{percent:.1f}%\", ha='center', va='bottom')\n",
    "    \n",
    "# show grid\n",
    "plt.grid(True)\n",
    "\n",
    "# Show plot\n",
    "plt.show()"
   ]
  },
  {
   "cell_type": "markdown",
   "id": "c7a45169",
   "metadata": {},
   "source": [
    "The most users interacted with 1 to 20 articles. \n",
    "\n",
    "There is a very small amount of users which viewed more the 350 articles."
   ]
  },
  {
   "cell_type": "code",
   "execution_count": 40,
   "id": "2b3d1857",
   "metadata": {},
   "outputs": [
    {
     "data": {
      "text/plain": [
       "{'article_id': 0, 'title': 0, 'email': 17}"
      ]
     },
     "execution_count": 40,
     "metadata": {},
     "output_type": "execute_result"
    }
   ],
   "source": [
    "# show the nan values\n",
    "nan_values = {}\n",
    "list_columns = list(df_interaction.columns)\n",
    "for column in list(df_interaction.columns):\n",
    "    nan = df_interaction[column].isna().sum()\n",
    "    nan_values[column] = nan\n",
    "    \n",
    "nan_values"
   ]
  },
  {
   "cell_type": "code",
   "execution_count": 41,
   "id": "d7068e64",
   "metadata": {},
   "outputs": [
    {
     "name": "stdout",
     "output_type": "stream",
     "text": [
      "-------------\n",
      "email\n",
      "-------------\n",
      "       article_id  \\\n",
      "25131        1016   \n",
      "29758        1393   \n",
      "29759          20   \n",
      "29760        1174   \n",
      "29761          62   \n",
      "35264         224   \n",
      "35276         961   \n",
      "35277         268   \n",
      "35278         268   \n",
      "35279         268   \n",
      "35280         268   \n",
      "35281         415   \n",
      "35282         846   \n",
      "35283         268   \n",
      "35284         162   \n",
      "42749         647   \n",
      "42750         965   \n",
      "\n",
      "                                                                       title  \\\n",
      "25131  why you should master r (even if it might eventually become obsolete)   \n",
      "29758                                           the nurse assignment problem   \n",
      "29759                working interactively with rstudio and notebooks in dsx   \n",
      "29760                          breast cancer wisconsin (diagnostic) data set   \n",
      "29761    data visualization: the importance of excluding unnecessary details   \n",
      "35264                                       using apply, sapply, lapply in r   \n",
      "35276                                         beyond parallelize and collect   \n",
      "35277                                          sector correlations shiny app   \n",
      "35278                                          sector correlations shiny app   \n",
      "35279                                          sector correlations shiny app   \n",
      "35280                                          sector correlations shiny app   \n",
      "35281             using machine learning to predict value of homes on airbnb   \n",
      "35282                            pearson correlation aggregation on sparksql   \n",
      "35283                                          sector correlations shiny app   \n",
      "35284          an introduction to stock market data analysis with r (part 1)   \n",
      "42749                                     getting started with apache mahout   \n",
      "42750                     data visualization playbook: revisiting the basics   \n",
      "\n",
      "      email  \n",
      "25131   NaN  \n",
      "29758   NaN  \n",
      "29759   NaN  \n",
      "29760   NaN  \n",
      "29761   NaN  \n",
      "35264   NaN  \n",
      "35276   NaN  \n",
      "35277   NaN  \n",
      "35278   NaN  \n",
      "35279   NaN  \n",
      "35280   NaN  \n",
      "35281   NaN  \n",
      "35282   NaN  \n",
      "35283   NaN  \n",
      "35284   NaN  \n",
      "42749   NaN  \n",
      "42750   NaN  \n"
     ]
    }
   ],
   "source": [
    "# show the rows where a NaN values appears\n",
    "for column in list(df_interaction.columns):\n",
    "    if df_interaction[column].isna().sum() > 0:\n",
    "        print('-------------')\n",
    "        print(column)\n",
    "        print('-------------')\n",
    "        print(df_interaction[df_interaction[column].isna()])"
   ]
  },
  {
   "cell_type": "markdown",
   "id": "04e4ce3a",
   "metadata": {},
   "source": [
    "There is nothing special in the rows of the nan values. Because the email is necessary to make a prediction, the values can be deleted."
   ]
  },
  {
   "cell_type": "code",
   "execution_count": 42,
   "id": "2f12b052",
   "metadata": {},
   "outputs": [],
   "source": [
    "# delete nan rows\n",
    "df_interaction = df_interaction.dropna(axis=0) "
   ]
  },
  {
   "cell_type": "markdown",
   "id": "2afb92a6",
   "metadata": {},
   "source": [
    "In the next step, I will check which users viewed which articles more than once. Maybe there are user which looked at some article multiple times."
   ]
  },
  {
   "cell_type": "code",
   "execution_count": 43,
   "id": "d1521898",
   "metadata": {},
   "outputs": [],
   "source": [
    "# find amount seen articles of each user\n",
    "dict_dupli_user = {}\n",
    "for user in list(df_interaction['email'].unique()):\n",
    "    user_df = df_interaction[df_interaction['email'] == user]\n",
    "    dict_dupli_user[user] ={}\n",
    "    for article_id in list(user_df['article_id'].unique()):\n",
    "        id_df = user_df[user_df['article_id'] == article_id]\n",
    "        freq_id = len(id_df['article_id'])\n",
    "        dict_dupli_user[user][article_id] = freq_id       "
   ]
  },
  {
   "cell_type": "code",
   "execution_count": 44,
   "id": "eb03001e",
   "metadata": {},
   "outputs": [],
   "source": [
    "# because the values in the subset were not classified as duplicates based on the complete row, it's necessary to\n",
    "# delete the empty entries\n",
    "for outer_key in dict_dupli_user.copy():\n",
    "    if dict_dupli_user[outer_key] == {}:\n",
    "        del dict_dupli_user[outer_key]"
   ]
  },
  {
   "cell_type": "code",
   "execution_count": 45,
   "id": "babd6c1b",
   "metadata": {},
   "outputs": [],
   "source": [
    "# create list with the number of all articles a user read\n",
    "uniq_art_user = []\n",
    "for dict_ in list(dict_dupli_user.values()):\n",
    "    uniq_art_user.append(len(dict_))"
   ]
  },
  {
   "cell_type": "code",
   "execution_count": 46,
   "id": "87263b2d",
   "metadata": {},
   "outputs": [
    {
     "data": {
      "image/png": "[encoded data removed]",
      "text/plain": [
       "<Figure size 2000x1000 with 1 Axes>"
      ]
     },
     "metadata": {},
     "output_type": "display_data"
    }
   ],
   "source": [
    "# visual a histogram of how many different articles were read from users (multi viewing not included)\n",
    "\n",
    "# define the plt size\n",
    "plt.figure(figsize=(20, 10))\n",
    "\n",
    "# x label\n",
    "plt.xlabel('Number Of Articles Users Interact')\n",
    "\n",
    "# y label\n",
    "plt.ylabel('Frequency')\n",
    "\n",
    "# title\n",
    "plt.title('Histogram: How Many Different Articles Were Read From Users (Multi-Viewing Not Included)')\n",
    "\n",
    "# change the segmentation\n",
    "plt.xticks(list(range(0, 150, 5)))\n",
    "\n",
    "# Create histogram\n",
    "plt.hist(uniq_art_user, bins=20)\n",
    "\n",
    "# Get histogram counts and bins\n",
    "counts, bins = np.histogram(uniq_art_user, bins=20)\n",
    "\n",
    "# Compute bin widths and centers\n",
    "widths = bins[1:] - bins[:-1]\n",
    "centers = (bins[1:] + bins[:-1]) / 2\n",
    "\n",
    "# Compute percentages\n",
    "percents = counts / len(uniq_art_user) * 100\n",
    "\n",
    "# Add percentages to the histogram\n",
    "for i, percent in enumerate(percents):\n",
    "    plt.text(centers[i], counts[i], f\"{percent:.1f}%\", ha='center', va='bottom')\n",
    "    \n",
    "# show grid\n",
    "plt.grid(True)\n",
    "\n",
    "# Show plot\n",
    "plt.show()"
   ]
  },
  {
   "cell_type": "markdown",
   "id": "b12e81b0",
   "metadata": {},
   "source": [
    "We see that the most users viewed 1 to 7 different articles. Compared to the other graph, this means that \n",
    "the higher viewing number results through multi-viewing. \n",
    "That means that the average user interact with a relatively low number of articles."
   ]
  },
  {
   "cell_type": "markdown",
   "id": "f8a7b7a2",
   "metadata": {},
   "source": [
    "These conclusions show me that I will probably have some problems with the matrix factorization."
   ]
  },
  {
   "cell_type": "markdown",
   "id": "d2f0760e",
   "metadata": {},
   "source": [
    "## <a class=\"anchor\" id=\"rbr\"> 2. Ranked-Based Recommendation </a>"
   ]
  },
  {
   "cell_type": "markdown",
   "id": "581b6eb4",
   "metadata": {},
   "source": [
    "The next chapter is about the creation of a Ranked-Based Recommendation. "
   ]
  },
  {
   "cell_type": "markdown",
   "id": "347787ed",
   "metadata": {},
   "source": [
    "First, I define a function which get me all top n articles. The definition of 'top' is to find the articles with the most clicks."
   ]
  },
  {
   "cell_type": "code",
   "execution_count": 47,
   "id": "300e0d22",
   "metadata": {},
   "outputs": [],
   "source": [
    "def get_top_articles(n, df_interaction):\n",
    "    '''\n",
    "    INPUT:\n",
    "    n - (int) the number of top articles to return\n",
    "    df_interaction - the dataframe of the user-article interactions \n",
    "    \n",
    "    OUTPUT:\n",
    "    top_articles - (list) A list of the top 'n' article titles \n",
    "    top_articles_ids - (list) A list of the top 'n' article ids\n",
    "    \n",
    "    '''\n",
    "    # create empty dictionary \n",
    "    dict_count = {}\n",
    "    \n",
    "    # iterate through all unique articles\n",
    "    for unique_value in df_interaction['article_id'].unique():\n",
    "        \n",
    "        # check if the interactions are bigger than 0\n",
    "        if len(df_interaction[df_interaction['article_id']==unique_value].index) > 0:\n",
    "            \n",
    "            # fill the dictionary with the number of interactions\n",
    "            dict_count[unique_value] = len(df_interaction[df_interaction['article_id']==unique_value].index)   \n",
    "            \n",
    "    \n",
    "    # sort the ids from many to few interactions \n",
    "    top_articles_ids = list(dict(sorted(dict_count.items(), key=lambda item: item[1], reverse=True)).keys())[:n]\n",
    "    \n",
    "    # create empty list\n",
    "    top_articles = []\n",
    "    \n",
    "    # fill the list with the article names\n",
    "    for article_id in top_articles_ids:\n",
    "        top_articles.append(list(df_interaction[df_interaction['article_id']==article_id]['title'])[0])\n",
    "    \n",
    "    return top_articles, top_articles_ids"
   ]
  },
  {
   "cell_type": "code",
   "execution_count": 48,
   "id": "425798dc",
   "metadata": {},
   "outputs": [
    {
     "data": {
      "text/plain": [
       "(['use deep learning for image classification',\n",
       "  'insights from new york car accident reports',\n",
       "  'visualize car data with brunel',\n",
       "  'use xgboost, scikit-learn & ibm watson machine learning apis',\n",
       "  'predicting churn with the spss random tree algorithm'],\n",
       " [1429, 1330, 1431, 1427, 1364])"
      ]
     },
     "execution_count": 48,
     "metadata": {},
     "output_type": "execute_result"
    }
   ],
   "source": [
    "# test of the function for the top 5 articles\n",
    "get_top_articles(5, df_interaction)"
   ]
  },
  {
   "cell_type": "markdown",
   "id": "f4c3c62f",
   "metadata": {},
   "source": [
    "With this algorithm, all users get the top n articles recommended. It needs to be considered that just the top n articles should be recommended, which the users didn´t read. This will be implemented in the finale code, where all 3 algorithms are combined. "
   ]
  },
  {
   "cell_type": "markdown",
   "id": "597698b6",
   "metadata": {},
   "source": [
    "## <a class=\"anchor\" id=\"ubr\"> 3. User-Based Recommendation </a>"
   ]
  },
  {
   "cell_type": "markdown",
   "id": "2b44cfa9",
   "metadata": {},
   "source": [
    "In the next step, I will create an algorithm which finds users with similar behavior and recommend articles which the one users didn't read but the other. "
   ]
  },
  {
   "cell_type": "markdown",
   "id": "d1b0ae2e",
   "metadata": {},
   "source": [
    "To find similar behavior, I look at the articles a user has viewed and compare them to all users to find the user with the most matches. The items that the first user didn't see, but the similar user did, will be recommended."
   ]
  },
  {
   "cell_type": "code",
   "execution_count": 49,
   "id": "1e56b147",
   "metadata": {},
   "outputs": [],
   "source": [
    "# find users with more the 2 viewed articles\n",
    "user_read_3 = []\n",
    "for user in dict_dupli_user:\n",
    "    if len(dict_dupli_user[user]) > 2:\n",
    "        user_read_3.append(user)   "
   ]
  },
  {
   "cell_type": "code",
   "execution_count": 50,
   "id": "d3caf1f2",
   "metadata": {},
   "outputs": [
    {
     "name": "stdout",
     "output_type": "stream",
     "text": [
      "There are 5148 unique user.\n",
      "After searching for users with more than 2 viewed articles, there are 2839 users left.\n",
      "2309 users can`t have a prediction with this algorithm.\n"
     ]
    }
   ],
   "source": [
    "# change from the original number of user to the users, a User-Based Recommendation can apply \n",
    "print('There are {} unique user.'.format(len(dict_dupli_user)))\n",
    "print('After searching for users with more than 2 viewed articles, there are {} users left.'.format(len(user_read_3)))\n",
    "print('{} users can`t have a prediction with this algorithm.'.format(len(dict_dupli_user)-len(user_read_3)))"
   ]
  },
  {
   "cell_type": "code",
   "execution_count": 51,
   "id": "21894cc6",
   "metadata": {},
   "outputs": [],
   "source": [
    "# create matrix where the number of article views from each user is the value\n",
    "user_article_matrix = pd.DataFrame.from_dict(dict_dupli_user, orient='index')\n",
    "\n",
    "# fill the nan values with 0\n",
    "user_article_matrix.fillna(0, inplace=True)"
   ]
  },
  {
   "cell_type": "code",
   "execution_count": 52,
   "id": "b47a778e",
   "metadata": {},
   "outputs": [
    {
     "data": {
      "text/html": [
       "<div>\n",
       "<style scoped>\n",
       "    .dataframe tbody tr th:only-of-type {\n",
       "        vertical-align: middle;\n",
       "    }\n",
       "\n",
       "    .dataframe tbody tr th {\n",
       "        vertical-align: top;\n",
       "    }\n",
       "\n",
       "    .dataframe thead th {\n",
       "        text-align: right;\n",
       "    }\n",
       "</style>\n",
       "<table border=\"1\" class=\"dataframe\">\n",
       "  <thead>\n",
       "    <tr style=\"text-align: right;\">\n",
       "      <th></th>\n",
       "      <th>1430</th>\n",
       "      <th>732</th>\n",
       "      <th>1429</th>\n",
       "      <th>43</th>\n",
       "      <th>109</th>\n",
       "      <th>1232</th>\n",
       "      <th>310</th>\n",
       "      <th>1293</th>\n",
       "      <th>1406</th>\n",
       "      <th>329</th>\n",
       "      <th>...</th>\n",
       "      <th>870</th>\n",
       "      <th>1127</th>\n",
       "      <th>233</th>\n",
       "      <th>384</th>\n",
       "      <th>1235</th>\n",
       "      <th>1303</th>\n",
       "      <th>675</th>\n",
       "      <th>1247</th>\n",
       "      <th>1156</th>\n",
       "      <th>1233</th>\n",
       "    </tr>\n",
       "  </thead>\n",
       "  <tbody>\n",
       "    <tr>\n",
       "      <th>ef5f11f77ba020cd36e1105a00ab868bbdbf7fe7</th>\n",
       "      <td>2.0</td>\n",
       "      <td>1.0</td>\n",
       "      <td>1.0</td>\n",
       "      <td>1.0</td>\n",
       "      <td>1.0</td>\n",
       "      <td>1.0</td>\n",
       "      <td>2.0</td>\n",
       "      <td>1.0</td>\n",
       "      <td>2.0</td>\n",
       "      <td>1.0</td>\n",
       "      <td>...</td>\n",
       "      <td>0.0</td>\n",
       "      <td>0.0</td>\n",
       "      <td>0.0</td>\n",
       "      <td>0.0</td>\n",
       "      <td>0.0</td>\n",
       "      <td>0.0</td>\n",
       "      <td>0.0</td>\n",
       "      <td>0.0</td>\n",
       "      <td>0.0</td>\n",
       "      <td>0.0</td>\n",
       "    </tr>\n",
       "    <tr>\n",
       "      <th>8b6fb4bbb7a27b336ba35420bf58337d877455c7</th>\n",
       "      <td>1.0</td>\n",
       "      <td>0.0</td>\n",
       "      <td>0.0</td>\n",
       "      <td>0.0</td>\n",
       "      <td>1.0</td>\n",
       "      <td>0.0</td>\n",
       "      <td>2.0</td>\n",
       "      <td>0.0</td>\n",
       "      <td>0.0</td>\n",
       "      <td>0.0</td>\n",
       "      <td>...</td>\n",
       "      <td>0.0</td>\n",
       "      <td>0.0</td>\n",
       "      <td>0.0</td>\n",
       "      <td>0.0</td>\n",
       "      <td>0.0</td>\n",
       "      <td>0.0</td>\n",
       "      <td>0.0</td>\n",
       "      <td>0.0</td>\n",
       "      <td>0.0</td>\n",
       "      <td>0.0</td>\n",
       "    </tr>\n",
       "    <tr>\n",
       "      <th>5e8b6eea25188b0516fc111a32daa59a4419f767</th>\n",
       "      <td>1.0</td>\n",
       "      <td>0.0</td>\n",
       "      <td>0.0</td>\n",
       "      <td>0.0</td>\n",
       "      <td>0.0</td>\n",
       "      <td>0.0</td>\n",
       "      <td>0.0</td>\n",
       "      <td>1.0</td>\n",
       "      <td>0.0</td>\n",
       "      <td>0.0</td>\n",
       "      <td>...</td>\n",
       "      <td>0.0</td>\n",
       "      <td>0.0</td>\n",
       "      <td>0.0</td>\n",
       "      <td>0.0</td>\n",
       "      <td>0.0</td>\n",
       "      <td>0.0</td>\n",
       "      <td>0.0</td>\n",
       "      <td>0.0</td>\n",
       "      <td>0.0</td>\n",
       "      <td>0.0</td>\n",
       "    </tr>\n",
       "    <tr>\n",
       "      <th>ec123f6658890db92d7db29a04c03e5e2098fa43</th>\n",
       "      <td>1.0</td>\n",
       "      <td>0.0</td>\n",
       "      <td>0.0</td>\n",
       "      <td>0.0</td>\n",
       "      <td>0.0</td>\n",
       "      <td>0.0</td>\n",
       "      <td>0.0</td>\n",
       "      <td>0.0</td>\n",
       "      <td>0.0</td>\n",
       "      <td>0.0</td>\n",
       "      <td>...</td>\n",
       "      <td>0.0</td>\n",
       "      <td>0.0</td>\n",
       "      <td>0.0</td>\n",
       "      <td>0.0</td>\n",
       "      <td>0.0</td>\n",
       "      <td>0.0</td>\n",
       "      <td>0.0</td>\n",
       "      <td>0.0</td>\n",
       "      <td>0.0</td>\n",
       "      <td>0.0</td>\n",
       "    </tr>\n",
       "    <tr>\n",
       "      <th>8dc8d7ec2356b1b106eb3d723f3c234e03ab3f1e</th>\n",
       "      <td>3.0</td>\n",
       "      <td>0.0</td>\n",
       "      <td>13.0</td>\n",
       "      <td>0.0</td>\n",
       "      <td>0.0</td>\n",
       "      <td>0.0</td>\n",
       "      <td>0.0</td>\n",
       "      <td>4.0</td>\n",
       "      <td>0.0</td>\n",
       "      <td>0.0</td>\n",
       "      <td>...</td>\n",
       "      <td>0.0</td>\n",
       "      <td>0.0</td>\n",
       "      <td>0.0</td>\n",
       "      <td>0.0</td>\n",
       "      <td>0.0</td>\n",
       "      <td>0.0</td>\n",
       "      <td>0.0</td>\n",
       "      <td>0.0</td>\n",
       "      <td>0.0</td>\n",
       "      <td>0.0</td>\n",
       "    </tr>\n",
       "  </tbody>\n",
       "</table>\n",
       "<p>5 rows × 714 columns</p>\n",
       "</div>"
      ],
      "text/plain": [
       "                                          1430  732   1429  43    109   1232  \\\n",
       "ef5f11f77ba020cd36e1105a00ab868bbdbf7fe7   2.0   1.0   1.0   1.0   1.0   1.0   \n",
       "8b6fb4bbb7a27b336ba35420bf58337d877455c7   1.0   0.0   0.0   0.0   1.0   0.0   \n",
       "5e8b6eea25188b0516fc111a32daa59a4419f767   1.0   0.0   0.0   0.0   0.0   0.0   \n",
       "ec123f6658890db92d7db29a04c03e5e2098fa43   1.0   0.0   0.0   0.0   0.0   0.0   \n",
       "8dc8d7ec2356b1b106eb3d723f3c234e03ab3f1e   3.0   0.0  13.0   0.0   0.0   0.0   \n",
       "\n",
       "                                          310   1293  1406  329   ...  870   \\\n",
       "ef5f11f77ba020cd36e1105a00ab868bbdbf7fe7   2.0   1.0   2.0   1.0  ...   0.0   \n",
       "8b6fb4bbb7a27b336ba35420bf58337d877455c7   2.0   0.0   0.0   0.0  ...   0.0   \n",
       "5e8b6eea25188b0516fc111a32daa59a4419f767   0.0   1.0   0.0   0.0  ...   0.0   \n",
       "ec123f6658890db92d7db29a04c03e5e2098fa43   0.0   0.0   0.0   0.0  ...   0.0   \n",
       "8dc8d7ec2356b1b106eb3d723f3c234e03ab3f1e   0.0   4.0   0.0   0.0  ...   0.0   \n",
       "\n",
       "                                          1127  233   384   1235  1303  675   \\\n",
       "ef5f11f77ba020cd36e1105a00ab868bbdbf7fe7   0.0   0.0   0.0   0.0   0.0   0.0   \n",
       "8b6fb4bbb7a27b336ba35420bf58337d877455c7   0.0   0.0   0.0   0.0   0.0   0.0   \n",
       "5e8b6eea25188b0516fc111a32daa59a4419f767   0.0   0.0   0.0   0.0   0.0   0.0   \n",
       "ec123f6658890db92d7db29a04c03e5e2098fa43   0.0   0.0   0.0   0.0   0.0   0.0   \n",
       "8dc8d7ec2356b1b106eb3d723f3c234e03ab3f1e   0.0   0.0   0.0   0.0   0.0   0.0   \n",
       "\n",
       "                                          1247  1156  1233  \n",
       "ef5f11f77ba020cd36e1105a00ab868bbdbf7fe7   0.0   0.0   0.0  \n",
       "8b6fb4bbb7a27b336ba35420bf58337d877455c7   0.0   0.0   0.0  \n",
       "5e8b6eea25188b0516fc111a32daa59a4419f767   0.0   0.0   0.0  \n",
       "ec123f6658890db92d7db29a04c03e5e2098fa43   0.0   0.0   0.0  \n",
       "8dc8d7ec2356b1b106eb3d723f3c234e03ab3f1e   0.0   0.0   0.0  \n",
       "\n",
       "[5 rows x 714 columns]"
      ]
     },
     "execution_count": 52,
     "metadata": {},
     "output_type": "execute_result"
    }
   ],
   "source": [
    "# show the first 5 rows of the df\n",
    "user_article_matrix.head()"
   ]
  },
  {
   "cell_type": "code",
   "execution_count": 53,
   "id": "2ba4b998",
   "metadata": {},
   "outputs": [],
   "source": [
    "def get_top_sorted_article(article_list, df_interaction):\n",
    "    '''\n",
    "    INPUT:\n",
    "    article_list - list of artilce ids\n",
    "    df_interaction - (pandas dataframe) user-article interaction\n",
    "    \n",
    "            \n",
    "    OUTPUT:\n",
    "    top_sorted_df - (pandas dataframe) a dataframe with:\n",
    "                    artilce_id- sorted article ids on num_interactions\n",
    "                    title - article title\n",
    "                    num_interactions - the viewed number by the user\n",
    "     \n",
    "    '''\n",
    "    \n",
    "    top_sorted_df = pd.DataFrame(columns=['article_id', 'title', 'num_interactions'])\n",
    "    \n",
    "    filtered_df = df_interaction[df_interaction['article_id'].isin(article_list)]\n",
    "    \n",
    "    for index, article_id in enumerate(article_list):\n",
    "        view_freq  = len(filtered_df[filtered_df['article_id'] == article_id])\n",
    "        top_sorted_df.loc[index, 'article_id'] = article_id\n",
    "        top_sorted_df.loc[index, 'title'] = filtered_df[filtered_df['article_id'] == article_id]['title'].iloc[0]\n",
    "        top_sorted_df.loc[index, 'num_interactions'] = view_freq\n",
    "    \n",
    "\n",
    "    top_sorted_df = top_sorted_df.sort_values('num_interactions', ascending=False)\n",
    "    \n",
    "    \n",
    "    \n",
    "    return top_sorted_df"
   ]
  },
  {
   "cell_type": "code",
   "execution_count": 54,
   "id": "ab98a420",
   "metadata": {},
   "outputs": [],
   "source": [
    "def similar_user(user_id, user_article_matrix):\n",
    "    '''\n",
    "    INPUT:\n",
    "    user - user id\n",
    "    \n",
    "    OUTPUT:\n",
    "    sim_user - (list) list with the most similar user from the most similar to the most dissimilar \n",
    "    \n",
    "    '''\n",
    "    # all seen articles of an user \n",
    "    user1_article = dict_dupli_user[user_id].keys()\n",
    "    \n",
    "    # create new df\n",
    "    df_user_sim = pd.DataFrame(columns=['user2', 'similarity'])\n",
    "    \n",
    "    # iterate through the user_id_matrix\n",
    "    for index, user_id_matrix in enumerate(user_article_matrix.index):\n",
    "        \n",
    "        # skip if the user is the same as the input user\n",
    "        if user_id_matrix == user_id:\n",
    "            next\n",
    "        \n",
    "        # find all users which have seen the most number of the same articles\n",
    "        else:\n",
    "            user2_article = dict_dupli_user[user_id_matrix].keys()\n",
    "            df_user_sim.loc[index, 'user2'] = user_id_matrix\n",
    "            df_user_sim.loc[index, 'similarity'] = len(list(set(user2_article).intersection(set(user1_article))))\n",
    "    \n",
    "    # sort the similar users\n",
    "    df_user_sim = df_user_sim.sort_values('similarity', ascending=False)\n",
    "    \n",
    "       \n",
    "    return df_user_sim # return a list of the users in order from most to least similar"
   ]
  },
  {
   "cell_type": "code",
   "execution_count": 55,
   "id": "b99da386",
   "metadata": {},
   "outputs": [],
   "source": [
    "def user_based_rec(\n",
    "    user_email, \n",
    "    dict_dupli_user, \n",
    "    lower_bound, \n",
    "    user_article_matrix, \n",
    "    num_rec):\n",
    "    '''\n",
    "    INPUT:\n",
    "    user_email - the user email \n",
    "    dict_dupli_user - dictionary with all users, the seen articles and the number of interactions\n",
    "    lower_bound - min. number of seen articles\n",
    "    user_article_matrix - matrix with all users and all article ids. The values are the number of seen articles\n",
    "    num_rec - number of recommendation for a user\n",
    "    \n",
    "    OUTPUT:\n",
    "    recs - (list) A list of the top 'n' article titles recommended through similar user\n",
    "    rec_names - (list) A list of the top 'n' article ids recommended through similar user\n",
    "    \n",
    "    '''\n",
    "    \n",
    "    # get the similar user, get his article ids and find the ids which user1 \n",
    "    recs = []\n",
    "    rec_names = []\n",
    "    \n",
    "    # find all seen articles\n",
    "    article_user1 = list(dict_dupli_user[user_email].keys())\n",
    "        \n",
    "    # find similar user\n",
    "    sim_user = similar_user(user_email, user_article_matrix)\n",
    "    \n",
    "    if len(dict_dupli_user[user_email]) >= lower_bound: # check if the new user seen more the x articles   \n",
    "        for user2 in sim_user['user2']:\n",
    "            if len(recs) >= num_rec:\n",
    "                break\n",
    "            else:\n",
    "                # get article ids from similar user\n",
    "                article_user2 = list(dict_dupli_user[user2].keys())\n",
    "                \n",
    "                # find the articles which the new user didn´t see\n",
    "                new_articles = list(set(article_user2).difference(set(article_user1)))\n",
    "            \n",
    "                # find article which are most clicked\n",
    "                sorted_df = get_top_sorted_article(new_articles, df_interaction)\n",
    "                sorted_new_article_id = list(sorted_df['article_id'])  \n",
    "                sorted_new_article_title = list(sorted_df['title'])\n",
    "            \n",
    "                 # add the recommendation \n",
    "                recs = recs + sorted_new_article_id\n",
    "                rec_names = rec_names + sorted_new_article_title\n",
    "                  \n",
    "    \n",
    "    return recs[:num_rec], rec_names[:num_rec]"
   ]
  },
  {
   "cell_type": "code",
   "execution_count": 56,
   "id": "1007defc",
   "metadata": {},
   "outputs": [
    {
     "name": "stdout",
     "output_type": "stream",
     "text": [
      "[1330, 1364, 1314]\n",
      "['insights from new york car accident reports', 'predicting churn with the spss random tree algorithm', 'healthcare python streaming application demo']\n"
     ]
    }
   ],
   "source": [
    "# use the function\n",
    "recs, rec_names = user_based_rec(\n",
    "    'ef5f11f77ba020cd36e1105a00ab868bbdbf7fe7', \n",
    "    dict_dupli_user, \n",
    "    2, \n",
    "    user_article_matrix, \n",
    "    3)\n",
    "print(recs)\n",
    "print(rec_names)"
   ]
  },
  {
   "cell_type": "markdown",
   "id": "fb1f3a98",
   "metadata": {},
   "source": [
    "With a Used-Based Recommendation, more than 50% of all users can have a recommendation. Because with this algorithm, there is no option for training. The only possibility is an A/B-Test. \n",
    "\n",
    "In an A/B test, we randomly divide users into two groups: a control group and a test group. The control group receives the current recommendation system, while the test group receives the new recommendation system. By comparing the performance of the two groups, we can determine the effectiveness of the new system.\n",
    "\n",
    "The users for the A/B test should be assigned randomly to the different groups to ensure that the groups are as similar as possible. The random assignment should also be conducted in a way that ensures that each group contains a representative sample of users in terms of their characteristics and behaviors.\n",
    "\n",
    "The metric that will be tracked during the experiment to check if the recommendations are successful will be the number of new viewed articles. This can be compared with the number of new viewed articles of the control group. \n",
    "\n",
    "The length of the experiment will depend on the number of users and the expected effect size of the new recommendation system. Generally, the experiment should be run long enough to collect a sufficient amount of data to achieve statistical significance, but not so long that the results become outdated. As a general rule, a few weeks to a few months might be a reasonable timeframe for an A/B test of a recommendation system."
   ]
  },
  {
   "cell_type": "markdown",
   "id": "d89ce1af",
   "metadata": {},
   "source": [
    "## <a class=\"anchor\" id=\"mfr\"> 4. Matrix Factorization Recommendation </a>"
   ]
  },
  {
   "cell_type": "markdown",
   "id": "ba3c700e",
   "metadata": {},
   "source": [
    "The next recommendation algorithm will be based on the Matrix Factorization. Therefore, I use the famous FUNK-SVD algorithm.\n",
    "\n",
    "The FUNK-SVD based on the splitting of a matrix in 3 matrices with latent factors. The problem with the normal SVD is that it can´t work with nan values, so objects which a user didn´t see jet. So solve this problem, the FUNK-SVD use just the existing rating of a user and updated the nan and all other values of the latent factors with it. This will be done so long until a minimum error is reached. "
   ]
  },
  {
   "cell_type": "code",
   "execution_count": 57,
   "id": "7de9eff7",
   "metadata": {},
   "outputs": [],
   "source": [
    "# transform all values which are bigger than 0 to 1\n",
    "# create a matrix which just show if an article was seen\n",
    "user_article_matrix_ext = user_article_matrix.applymap(lambda x: 1 if x > 0 else np.nan)"
   ]
  },
  {
   "cell_type": "code",
   "execution_count": 58,
   "id": "d8f8d7df",
   "metadata": {},
   "outputs": [
    {
     "data": {
      "text/html": [
       "<div>\n",
       "<style scoped>\n",
       "    .dataframe tbody tr th:only-of-type {\n",
       "        vertical-align: middle;\n",
       "    }\n",
       "\n",
       "    .dataframe tbody tr th {\n",
       "        vertical-align: top;\n",
       "    }\n",
       "\n",
       "    .dataframe thead th {\n",
       "        text-align: right;\n",
       "    }\n",
       "</style>\n",
       "<table border=\"1\" class=\"dataframe\">\n",
       "  <thead>\n",
       "    <tr style=\"text-align: right;\">\n",
       "      <th></th>\n",
       "      <th>1430</th>\n",
       "      <th>732</th>\n",
       "      <th>1429</th>\n",
       "      <th>43</th>\n",
       "      <th>109</th>\n",
       "      <th>1232</th>\n",
       "      <th>310</th>\n",
       "      <th>1293</th>\n",
       "      <th>1406</th>\n",
       "      <th>329</th>\n",
       "      <th>...</th>\n",
       "      <th>870</th>\n",
       "      <th>1127</th>\n",
       "      <th>233</th>\n",
       "      <th>384</th>\n",
       "      <th>1235</th>\n",
       "      <th>1303</th>\n",
       "      <th>675</th>\n",
       "      <th>1247</th>\n",
       "      <th>1156</th>\n",
       "      <th>1233</th>\n",
       "    </tr>\n",
       "  </thead>\n",
       "  <tbody>\n",
       "    <tr>\n",
       "      <th>ef5f11f77ba020cd36e1105a00ab868bbdbf7fe7</th>\n",
       "      <td>1.0</td>\n",
       "      <td>1.0</td>\n",
       "      <td>1.0</td>\n",
       "      <td>1.0</td>\n",
       "      <td>1.0</td>\n",
       "      <td>1.0</td>\n",
       "      <td>1.0</td>\n",
       "      <td>1.0</td>\n",
       "      <td>1.0</td>\n",
       "      <td>1.0</td>\n",
       "      <td>...</td>\n",
       "      <td>NaN</td>\n",
       "      <td>NaN</td>\n",
       "      <td>NaN</td>\n",
       "      <td>NaN</td>\n",
       "      <td>NaN</td>\n",
       "      <td>NaN</td>\n",
       "      <td>NaN</td>\n",
       "      <td>NaN</td>\n",
       "      <td>NaN</td>\n",
       "      <td>NaN</td>\n",
       "    </tr>\n",
       "    <tr>\n",
       "      <th>8b6fb4bbb7a27b336ba35420bf58337d877455c7</th>\n",
       "      <td>1.0</td>\n",
       "      <td>NaN</td>\n",
       "      <td>NaN</td>\n",
       "      <td>NaN</td>\n",
       "      <td>1.0</td>\n",
       "      <td>NaN</td>\n",
       "      <td>1.0</td>\n",
       "      <td>NaN</td>\n",
       "      <td>NaN</td>\n",
       "      <td>NaN</td>\n",
       "      <td>...</td>\n",
       "      <td>NaN</td>\n",
       "      <td>NaN</td>\n",
       "      <td>NaN</td>\n",
       "      <td>NaN</td>\n",
       "      <td>NaN</td>\n",
       "      <td>NaN</td>\n",
       "      <td>NaN</td>\n",
       "      <td>NaN</td>\n",
       "      <td>NaN</td>\n",
       "      <td>NaN</td>\n",
       "    </tr>\n",
       "    <tr>\n",
       "      <th>5e8b6eea25188b0516fc111a32daa59a4419f767</th>\n",
       "      <td>1.0</td>\n",
       "      <td>NaN</td>\n",
       "      <td>NaN</td>\n",
       "      <td>NaN</td>\n",
       "      <td>NaN</td>\n",
       "      <td>NaN</td>\n",
       "      <td>NaN</td>\n",
       "      <td>1.0</td>\n",
       "      <td>NaN</td>\n",
       "      <td>NaN</td>\n",
       "      <td>...</td>\n",
       "      <td>NaN</td>\n",
       "      <td>NaN</td>\n",
       "      <td>NaN</td>\n",
       "      <td>NaN</td>\n",
       "      <td>NaN</td>\n",
       "      <td>NaN</td>\n",
       "      <td>NaN</td>\n",
       "      <td>NaN</td>\n",
       "      <td>NaN</td>\n",
       "      <td>NaN</td>\n",
       "    </tr>\n",
       "    <tr>\n",
       "      <th>ec123f6658890db92d7db29a04c03e5e2098fa43</th>\n",
       "      <td>1.0</td>\n",
       "      <td>NaN</td>\n",
       "      <td>NaN</td>\n",
       "      <td>NaN</td>\n",
       "      <td>NaN</td>\n",
       "      <td>NaN</td>\n",
       "      <td>NaN</td>\n",
       "      <td>NaN</td>\n",
       "      <td>NaN</td>\n",
       "      <td>NaN</td>\n",
       "      <td>...</td>\n",
       "      <td>NaN</td>\n",
       "      <td>NaN</td>\n",
       "      <td>NaN</td>\n",
       "      <td>NaN</td>\n",
       "      <td>NaN</td>\n",
       "      <td>NaN</td>\n",
       "      <td>NaN</td>\n",
       "      <td>NaN</td>\n",
       "      <td>NaN</td>\n",
       "      <td>NaN</td>\n",
       "    </tr>\n",
       "    <tr>\n",
       "      <th>8dc8d7ec2356b1b106eb3d723f3c234e03ab3f1e</th>\n",
       "      <td>1.0</td>\n",
       "      <td>NaN</td>\n",
       "      <td>1.0</td>\n",
       "      <td>NaN</td>\n",
       "      <td>NaN</td>\n",
       "      <td>NaN</td>\n",
       "      <td>NaN</td>\n",
       "      <td>1.0</td>\n",
       "      <td>NaN</td>\n",
       "      <td>NaN</td>\n",
       "      <td>...</td>\n",
       "      <td>NaN</td>\n",
       "      <td>NaN</td>\n",
       "      <td>NaN</td>\n",
       "      <td>NaN</td>\n",
       "      <td>NaN</td>\n",
       "      <td>NaN</td>\n",
       "      <td>NaN</td>\n",
       "      <td>NaN</td>\n",
       "      <td>NaN</td>\n",
       "      <td>NaN</td>\n",
       "    </tr>\n",
       "  </tbody>\n",
       "</table>\n",
       "<p>5 rows × 714 columns</p>\n",
       "</div>"
      ],
      "text/plain": [
       "                                          1430  732   1429  43    109   1232  \\\n",
       "ef5f11f77ba020cd36e1105a00ab868bbdbf7fe7   1.0   1.0   1.0   1.0   1.0   1.0   \n",
       "8b6fb4bbb7a27b336ba35420bf58337d877455c7   1.0   NaN   NaN   NaN   1.0   NaN   \n",
       "5e8b6eea25188b0516fc111a32daa59a4419f767   1.0   NaN   NaN   NaN   NaN   NaN   \n",
       "ec123f6658890db92d7db29a04c03e5e2098fa43   1.0   NaN   NaN   NaN   NaN   NaN   \n",
       "8dc8d7ec2356b1b106eb3d723f3c234e03ab3f1e   1.0   NaN   1.0   NaN   NaN   NaN   \n",
       "\n",
       "                                          310   1293  1406  329   ...  870   \\\n",
       "ef5f11f77ba020cd36e1105a00ab868bbdbf7fe7   1.0   1.0   1.0   1.0  ...   NaN   \n",
       "8b6fb4bbb7a27b336ba35420bf58337d877455c7   1.0   NaN   NaN   NaN  ...   NaN   \n",
       "5e8b6eea25188b0516fc111a32daa59a4419f767   NaN   1.0   NaN   NaN  ...   NaN   \n",
       "ec123f6658890db92d7db29a04c03e5e2098fa43   NaN   NaN   NaN   NaN  ...   NaN   \n",
       "8dc8d7ec2356b1b106eb3d723f3c234e03ab3f1e   NaN   1.0   NaN   NaN  ...   NaN   \n",
       "\n",
       "                                          1127  233   384   1235  1303  675   \\\n",
       "ef5f11f77ba020cd36e1105a00ab868bbdbf7fe7   NaN   NaN   NaN   NaN   NaN   NaN   \n",
       "8b6fb4bbb7a27b336ba35420bf58337d877455c7   NaN   NaN   NaN   NaN   NaN   NaN   \n",
       "5e8b6eea25188b0516fc111a32daa59a4419f767   NaN   NaN   NaN   NaN   NaN   NaN   \n",
       "ec123f6658890db92d7db29a04c03e5e2098fa43   NaN   NaN   NaN   NaN   NaN   NaN   \n",
       "8dc8d7ec2356b1b106eb3d723f3c234e03ab3f1e   NaN   NaN   NaN   NaN   NaN   NaN   \n",
       "\n",
       "                                          1247  1156  1233  \n",
       "ef5f11f77ba020cd36e1105a00ab868bbdbf7fe7   NaN   NaN   NaN  \n",
       "8b6fb4bbb7a27b336ba35420bf58337d877455c7   NaN   NaN   NaN  \n",
       "5e8b6eea25188b0516fc111a32daa59a4419f767   NaN   NaN   NaN  \n",
       "ec123f6658890db92d7db29a04c03e5e2098fa43   NaN   NaN   NaN  \n",
       "8dc8d7ec2356b1b106eb3d723f3c234e03ab3f1e   NaN   NaN   NaN  \n",
       "\n",
       "[5 rows x 714 columns]"
      ]
     },
     "execution_count": 58,
     "metadata": {},
     "output_type": "execute_result"
    }
   ],
   "source": [
    "# show the first 5 rows of the new matrix\n",
    "user_article_matrix_ext.head()"
   ]
  },
  {
   "cell_type": "code",
   "execution_count": 59,
   "id": "5a4e4ca6",
   "metadata": {},
   "outputs": [],
   "source": [
    "def create_train_test(df_interaction, training_size, user_article_matrix_ext):\n",
    "    '''    \n",
    "    INPUT:\n",
    "    reviews - (pandas df) dataframe to split into train and test\n",
    "    training_size - (int) number of rows in training set in percentage \n",
    "    user_article_matrix_ext - matrix with all users and all article ids. The values NAN for not seen and 1 for seen\n",
    "    \n",
    "    OUTPUT:\n",
    "    training_df -  (pandas df) dataframe of the training set\n",
    "    validation_df - (pandas df) dataframe of the test set\n",
    "    '''\n",
    "    \n",
    "    # create the row number from the percentage\n",
    "    training_size_num = round((df_interaction.shape[0]/100)*training_size)\n",
    "    testing_size_num = df_interaction.shape[0] - training_size_num\n",
    "    \n",
    "    # split the dfs\n",
    "    training_df = df_interaction[0:training_size_num]\n",
    "    validation_df = df_interaction[training_size_num:training_size_num+testing_size_num]\n",
    "    \n",
    "    # create user-article matrix for the train and test data\n",
    "    training_df_transformed = user_article_matrix_ext.loc[training_df['email'].unique(), training_df['article_id'].unique()]\n",
    "    validation_df_transformed = user_article_matrix_ext.loc[validation_df['email'].unique(), validation_df['article_id'].unique()]\n",
    "    \n",
    "    return training_df, training_df_transformed, validation_df, validation_df_transformed"
   ]
  },
  {
   "cell_type": "code",
   "execution_count": 60,
   "id": "962d2d14",
   "metadata": {},
   "outputs": [],
   "source": [
    "# create training and test dataset\n",
    "train_df, training_df_transformed, val_df, validation_df_transformed = create_train_test(df_interaction, 50, user_article_matrix_ext)"
   ]
  },
  {
   "cell_type": "markdown",
   "id": "d8d3b496",
   "metadata": {},
   "source": [
    "I choose a smaller training set because I want to increase the number of examples in the validation set. The problem is, that I need the users which are in both sets (training and test). I increase the amount of these users when I increase the test set. "
   ]
  },
  {
   "cell_type": "code",
   "execution_count": 61,
   "id": "02ed9baa",
   "metadata": {},
   "outputs": [],
   "source": [
    "def FunkSVD(training_df_transformed, latent_features, learning_rate, iters):\n",
    "    '''\n",
    "    This function performs matrix factorization using a basic form of FunkSVD with no regularization\n",
    "    \n",
    "    INPUT:\n",
    "    user_article_matrix_ext - matrix with all users and all article ids. The values 0 for not seen an 1 for seen\n",
    "    latent_features - (int) the number of latent features used\n",
    "    learning_rate - (float) the learning rate \n",
    "    iters - (int) the number of iterations\n",
    "    \n",
    "    OUTPUT:\n",
    "    user_mat - (numpy array) a user by latent feature matrix\n",
    "    article_mat - (numpy array) a latent feature by article matrix\n",
    "    '''\n",
    "    \n",
    "    data_np = np.array(user_article_matrix_ext)\n",
    "    \n",
    "    # Set up useful values to be used through the rest of the function\n",
    "    n_users = training_df_transformed.shape[0]\n",
    "    n_articles = training_df_transformed.shape[1]\n",
    "    num_ratings = np.count_nonzero(~np.isnan(training_df_transformed))\n",
    "    \n",
    "    # initialize the user and article matrices with random values\n",
    "    user_mat = np.random.rand(n_users, latent_features)\n",
    "    article_mat = np.random.rand(latent_features, n_articles)\n",
    "    \n",
    "    # for each iteration\n",
    "    for iteration in range(iters):\n",
    "\n",
    "        # For each user-article pair\n",
    "        for i in range(n_users):\n",
    "            for j in range(n_articles):\n",
    "                \n",
    "                # if the rating exists\n",
    "                if data_np[i, j] > 0:\n",
    "                    \n",
    "                    # compute the error as the actual minus the dot product of the user and movie latent features\n",
    "                    diff = data_np[i, j] - np.dot(user_mat[i, :], article_mat[:, j])\n",
    "                    \n",
    "                    # update the values in each matrix in the direction of the gradient\n",
    "                    for k in range(latent_features):\n",
    "                        user_mat[i, k] += learning_rate * (2*diff*article_mat[k, j])\n",
    "                        article_mat[k, j] += learning_rate * (2*diff*user_mat[i, k])\n",
    "\n",
    "    return user_mat, article_mat "
   ]
  },
  {
   "cell_type": "code",
   "execution_count": 63,
   "id": "685e737a",
   "metadata": {},
   "outputs": [],
   "source": [
    "def find_intersection(value, matrix1, matrix2):\n",
    "    '''    \n",
    "    INPUT:\n",
    "    value - the value to search for an intersection\n",
    "    matrix1 - matrix 1 to find intersections\n",
    "    matrix2 - matrix 2 to find intersections\n",
    "    \n",
    "    OUTPUT:\n",
    "    row_inters - list of row values with intersections\n",
    "    cols_inters - list of column values with intersections\n",
    "    row_positions - list of row positions with intersections\n",
    "    cols_positions - list of column positions with intersections\n",
    "    '''\n",
    "    \n",
    "    mask = matrix1.eq(value)\n",
    "\n",
    "    rows, cols = matrix1.any(axis=1), matrix1.any()\n",
    "    cols_list = list(cols[cols].index)\n",
    "    rows_list = list(matrix1.index[rows])\n",
    "    \n",
    "    row_inters = list(set(matrix2.index) & set(rows_list))\n",
    "    cols_inters = list(set(matrix2.columns) & set(cols_list))\n",
    "    \n",
    "    row_positions = [matrix2.index.get_loc(idx) for idx in row_inters]\n",
    "    cols_positions = [matrix2.columns.get_loc(idx) for idx in cols_inters]\n",
    "\n",
    "    return row_inters, cols_inters, row_positions, cols_positions"
   ]
  },
  {
   "cell_type": "code",
   "execution_count": 64,
   "id": "6c057792",
   "metadata": {},
   "outputs": [],
   "source": [
    "row_inters, cols_inters, row_positions, cols_positions= find_intersection(1, validation_df_transformed, training_df_transformed)"
   ]
  },
  {
   "cell_type": "code",
   "execution_count": 65,
   "id": "b7751cd2",
   "metadata": {},
   "outputs": [
    {
     "name": "stdout",
     "output_type": "stream",
     "text": [
      "The number of users in the training set is 2791.\n",
      "The number of users in the validation set is 2774.\n",
      "The number of users where the FUNK-SVD can be applied is 417.\n"
     ]
    }
   ],
   "source": [
    "# number of users which can be tested\n",
    "print('The number of users in the training set is {}.'.format(training_df_transformed.shape[0]))\n",
    "print('The number of users in the validation set is {}.'.format(validation_df_transformed.shape[0]))\n",
    "print('The number of users where the FUNK-SVD can be applied is {}.'.format(len(row_inters)))"
   ]
  },
  {
   "cell_type": "code",
   "execution_count": 66,
   "id": "ca479b79",
   "metadata": {},
   "outputs": [],
   "source": [
    "# create the iteration length/steps\n",
    "num_latent_feats = np.arange(1,30,2)\n",
    "\n",
    "# create empty lists\n",
    "train_error_sum = []\n",
    "test_error_sum = []\n",
    "total_error = []\n",
    "\n",
    "# find the intersections between train and test sets\n",
    "row_inters, cols_inters, row_positions, cols_positions = find_intersection(1, validation_df_transformed, training_df_transformed)\n",
    "\n",
    "# transform the train and test sets in arrays\n",
    "user_article_train = np.array(training_df_transformed)\n",
    "user_article_test = np.array(training_df_transformed.loc[row_inters])\n",
    "\n",
    "for k in num_latent_feats:\n",
    "    # restructure with k latent features\n",
    "    user_mat, article_mat = FunkSVD(training_df_transformed, latent_features=k, learning_rate=0.005, iters=50)\n",
    "    \n",
    "    # take dot product\n",
    "    user_article_train_preds = np.around(np.dot(user_mat, article_mat),3)\n",
    "    user_article_test_preds = user_article_train_preds[row_positions]\n",
    " \n",
    "    # computing difference in prediction value\n",
    "    train_dif = np.subtract(user_article_train, user_article_train_preds)\n",
    "    test_dif = np.subtract(user_article_test, user_article_test_preds)\n",
    "    \n",
    "    \n",
    "    # training and testing error\n",
    "    train_dif_squared = train_dif ** 2\n",
    "    test_dif_squared = test_dif ** 2\n",
    "    train_error =  np.nansum(train_dif_squared)/np.count_nonzero(train_dif)\n",
    "    test_error = np.nansum(test_dif_squared)/np.count_nonzero(test_dif)\n",
    "    \n",
    "    # fill the lists with the different errors per iteration\n",
    "    train_error_sum.append(train_error)\n",
    "    test_error_sum.append(test_error)"
   ]
  },
  {
   "cell_type": "code",
   "execution_count": 67,
   "id": "2dc612bf",
   "metadata": {
    "scrolled": false
   },
   "outputs": [
    {
     "data": {
      "image/png": "[encoded data removed]",
      "text/plain": [
       "<Figure size 2000x1000 with 1 Axes>"
      ]
     },
     "metadata": {},
     "output_type": "display_data"
    }
   ],
   "source": [
    "# plot the mean squared error on the number of latent factors\n",
    "\n",
    "# define the plt size\n",
    "plt.figure(figsize=(20, 10))\n",
    "\n",
    "# plot train and test graphs\n",
    "plt.plot(num_latent_feats, train_error_sum, label='Train')\n",
    "plt.plot(num_latent_feats, test_error_sum, label='Test')\n",
    "\n",
    "# labeling\n",
    "plt.xlabel('Number of Latent Features')\n",
    "plt.ylabel('MSE')\n",
    "plt.title('MSE vs. Number of Latent Features')\n",
    "\n",
    "# define length and steps of the x-axis\n",
    "plt.xticks(list(range(1, 30, 2)))\n",
    "\n",
    "# active grid\n",
    "plt.grid()\n",
    "\n",
    "# show legend\n",
    "plt.legend()\n",
    "\n",
    "plt.show()\n",
    "     \n"
   ]
  },
  {
   "cell_type": "markdown",
   "id": "5ae1813d",
   "metadata": {},
   "source": [
    "I have the smallest MSE in at the number of **3** latent factors. "
   ]
  },
  {
   "cell_type": "markdown",
   "id": "da4601c4",
   "metadata": {},
   "source": [
    "In the next step, I need to decide at which point of the float number in the prediction matrix if the article is a recommendation."
   ]
  },
  {
   "cell_type": "code",
   "execution_count": 68,
   "id": "1738c088",
   "metadata": {},
   "outputs": [
    {
     "data": {
      "text/plain": [
       "0.000363"
      ]
     },
     "execution_count": 68,
     "metadata": {},
     "output_type": "execute_result"
    }
   ],
   "source": [
    "# show the summed MSE of the test data with the best latent feature\n",
    "round(test_error_sum[2],6)"
   ]
  },
  {
   "cell_type": "markdown",
   "id": "4820d03b",
   "metadata": {},
   "source": [
    "For the beginning, I define the cut point at ± 0.000356.\n",
    "If the final model don't generate enough recommendation, I will adjust the value to 2 * ± 0.000356."
   ]
  },
  {
   "cell_type": "markdown",
   "id": "d71e7cc5",
   "metadata": {},
   "source": [
    "## <a class=\"anchor\" id=\"fm\"> 5. Final Model </a>"
   ]
  },
  {
   "cell_type": "markdown",
   "id": "0112778f",
   "metadata": {},
   "source": [
    "The finale model will be a combination of all 3 algorithm. At first, I will use the FUNK-SVD. If the amount of recommendations is not enough, I will use the User-Based Recommendation. Finally, if I can't satisfy the amount of recommendation, I will use the Ranked-Based-Recommendation. \n",
    "For the 'Cold-Start-Problem' (complete new Users) I will only use the Ranked-Based-Recommendation."
   ]
  },
  {
   "cell_type": "code",
   "execution_count": 69,
   "id": "79c08e5c",
   "metadata": {},
   "outputs": [],
   "source": [
    "# apply the FUNK-SVD\n",
    "# restructure with k latent features\n",
    "user_mat, article_mat = FunkSVD(user_article_matrix, latent_features=3, learning_rate=0.005, iters=50)\n",
    "\n",
    "# prediction with FUNK-SVD\n",
    "user_article_preds_funk_svd = np.around(np.dot(user_mat, article_mat),6)"
   ]
  },
  {
   "cell_type": "code",
   "execution_count": 70,
   "id": "d806e76e",
   "metadata": {},
   "outputs": [],
   "source": [
    "# create a dictionary with all users and their seen articles (including the watch frequency)\n",
    "seen_article = {}\n",
    "for user in list(df_interaction['email'].unique()):\n",
    "    user_df = df_interaction[df_interaction['email'] == user]\n",
    "    seen_article[user] ={}\n",
    "    for article_id in list(user_df['article_id'].unique()):\n",
    "        id_df = user_df[user_df['article_id'] == article_id]\n",
    "        freq_id = len(id_df['article_id'])\n",
    "        seen_article[user][article_id] = freq_id  "
   ]
  },
  {
   "cell_type": "code",
   "execution_count": 71,
   "id": "ff9f80da",
   "metadata": {},
   "outputs": [],
   "source": [
    "# create matrix where the number of article views from each user is the value\n",
    "user_article_matrix = pd.DataFrame.from_dict(seen_article, orient='index')\n",
    "user_article_matrix = user_article_matrix.applymap(lambda x: 1 if x > 0 else np.nan)"
   ]
  },
  {
   "cell_type": "code",
   "execution_count": 72,
   "id": "ef6bf8fd",
   "metadata": {},
   "outputs": [],
   "source": [
    "def recommendation_engine(\n",
    "    user_article_preds_funk_svd, \n",
    "    user_email, \n",
    "    seen_article, \n",
    "    database, \n",
    "    user_article_matrix,\n",
    "    tolerance, \n",
    "    num_recs, \n",
    "    lower_bound\n",
    "):\n",
    "    '''    \n",
    "    INPUT:\n",
    "    user_article_preds_funk_svd - prediction matrix with FUNK-SVD\n",
    "    user_email - user email\n",
    "    seen_article - dictionary with all users, the seen articles and the number of interactions\n",
    "    database - dataframe with article ids and user interactions\n",
    "    user_article_matrix - matrix with all users and all article ids. The values NAN for not seen and 1 for seen\n",
    "    tolerance - the selecting tolerance for the prediction values in user_article_preds_funk_svd\n",
    "    num_recs - number of recommendations\n",
    "    lower_bound - min. number of seen articles\n",
    "    \n",
    "    OUTPUT:\n",
    "    rec_ids - (list) best 'n' article ids for the user\n",
    "    rec_names - (list) best 'n' article names for the user\n",
    "    '''\n",
    "       \n",
    "    # create empty list for recommendations\n",
    "    rec_ids = []\n",
    "    rec_names = []\n",
    "    \n",
    "    if user_email in user_article_matrix.index:\n",
    "        \n",
    "        # find the user position in the matrix\n",
    "        pos_user = user_article_matrix.index.get_loc(user_email)\n",
    "        \n",
    "        funk_pred = user_article_preds_funk_svd[pos_user]\n",
    "        funk_pred_tol = [\n",
    "            idx for idx, rec in enumerate(funk_pred) \n",
    "            if rec <= 1+tolerance and rec >= 1-tolerance\n",
    "        ]\n",
    "        \n",
    "        # transform array position in article id\n",
    "        funk_pred_rec = [\n",
    "            article for idx, article in enumerate(user_article_matrix.columns) if idx in funk_pred_tol\n",
    "        ]\n",
    "        \n",
    "        # check which articles the user already seen\n",
    "        diff_recs = list(set(funk_pred_rec).difference(set(seen_article[user_email].keys())))\n",
    "        \n",
    "        # add recommendations in list\n",
    "        rec_ids.extend(diff_recs)\n",
    "        \n",
    "        # find the article names\n",
    "        for article_id in rec_ids:\n",
    "            rec_names.append(list(database[database['article_id']==article_id]['title'])[0])\n",
    "            \n",
    "        # if there are not enough recommendations, use the user-based recommendations\n",
    "        if len(rec_ids) < num_recs:\n",
    "            delta_rec = num_recs - len(rec_ids)\n",
    "            user_based_rec_ids, user_based_rec_names = user_based_rec(\n",
    "                user_email, seen_article, \n",
    "                lower_bound, \n",
    "                user_article_matrix, \n",
    "                delta_rec\n",
    "            )\n",
    "            \n",
    "            # check which articles aren´t already recommended through FUNK-SVD\n",
    "            user_based_rec_ids_new = list(set(user_based_rec_ids).difference(set(rec_ids)))\n",
    "            user_based_rec_names_new = list(set(user_based_rec_names).difference(set(rec_names)))\n",
    "            \n",
    "            # add new articles\n",
    "            rec_ids.extend(user_based_rec_ids_new)\n",
    "            rec_names.extend(user_based_rec_names_new)\n",
    "            \n",
    "            # if there are not enough recommendations, use the ranked-based recommendations\n",
    "            if len(rec_ids) < num_recs:\n",
    "                delta_rec = num_recs - len(rec_ids)\n",
    "                \n",
    "                # use top ranked-based recommendation algorithm \n",
    "                ranked_rec_names, _ranked_rec_ids = get_top_articles(delta_rec, df_interaction)\n",
    "                \n",
    "                # check which articles aren´t already recommended through FUNK-SVD or user-based recommendation\n",
    "                ranked_rec_ids_new = list(set(_ranked_rec_ids).difference(set(rec_ids)))\n",
    "                ranked_rec_names_new = list(set(ranked_rec_names).difference(set(rec_names)))\n",
    "                \n",
    "                # add new articles\n",
    "                rec_ids.extend(_ranked_rec_ids)\n",
    "                rec_names.extend(ranked_rec_names)\n",
    "    else:   \n",
    "        # use top ranked-based recommendation algorithm if there is a complete new user\n",
    "        rec_names, rec_ids = get_top_articles(num_recs, df_interaction)\n",
    "    \n",
    "    \n",
    "    return rec_ids[:num_recs], rec_names[:num_recs]\n",
    "        "
   ]
  },
  {
   "cell_type": "code",
   "execution_count": 73,
   "id": "e5a2887c",
   "metadata": {},
   "outputs": [
    {
     "data": {
      "text/plain": [
       "([993, 302, 658, 1171, 311, 184, 473, 1050, 1330, 1364],\n",
       " ['configuring the apache spark sql context',\n",
       "  'accelerate your workflow with dsx',\n",
       "  'automating web analytics through python',\n",
       "  'apache spark lab, part 2: querying data',\n",
       "  'probabilistic graphical models tutorial\\u200a—\\u200apart 2 – stats and bots',\n",
       "  'improving the roi of big data and analytics through leveraging new sources of data',\n",
       "  'intelligent applications - apache spark',\n",
       "  'jupyter notebooks with scala, python, or r kernels',\n",
       "  'insights from new york car accident reports',\n",
       "  'predicting churn with the spss random tree algorithm'])"
      ]
     },
     "execution_count": 73,
     "metadata": {},
     "output_type": "execute_result"
    }
   ],
   "source": [
    "# apply the function\n",
    "recommendation_engine(\n",
    "    user_article_preds_funk_svd, \n",
    "    'ef5f11f77ba020cd36e1105a00ab868bbdbf7fe7', \n",
    "    seen_article,\n",
    "    df_interaction, \n",
    "    user_article_matrix,\n",
    "    0.000356, \n",
    "    10, \n",
    "    3\n",
    ")"
   ]
  }
 ],
 "metadata": {
  "kernelspec": {
   "display_name": "Python 3 (ipykernel)",
   "language": "python",
   "name": "python3"
  },
  "language_info": {
   "codemirror_mode": {
    "name": "ipython",
    "version": 3
   },
   "file_extension": ".py",
   "mimetype": "text/x-python",
   "name": "python",
   "nbconvert_exporter": "python",
   "pygments_lexer": "ipython3",
   "version": "3.10.9"
  }
 },
 "nbformat": 4,
 "nbformat_minor": 5
}
